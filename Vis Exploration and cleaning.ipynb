{
 "cells": [
  {
   "cell_type": "markdown",
   "id": "be221084",
   "metadata": {},
   "source": [
    "## Importing libraries and data"
   ]
  },
  {
   "cell_type": "code",
   "execution_count": 35,
   "id": "831cbee6",
   "metadata": {},
   "outputs": [],
   "source": [
    "import pandas as pd\n",
    "import matplotlib.pyplot as plt\n",
    "import seaborn as sns"
   ]
  },
  {
   "cell_type": "code",
   "execution_count": 2,
   "id": "ad33dc5d",
   "metadata": {},
   "outputs": [
    {
     "name": "stderr",
     "output_type": "stream",
     "text": [
      "C:\\Users\\20194027\\AppData\\Local\\Temp/ipykernel_6056/788512311.py:1: DtypeWarning: Columns (25) have mixed types. Specify dtype option on import or set low_memory=False.\n",
      "  Airbnb_data = pd.read_csv('airbnb_open_data.csv')\n"
     ]
    }
   ],
   "source": [
    "Airbnb_data = pd.read_csv('airbnb_open_data.csv')"
   ]
  },
  {
   "cell_type": "markdown",
   "id": "da5d283a",
   "metadata": {},
   "source": [
    "## Research and clean data"
   ]
  },
  {
   "cell_type": "markdown",
   "id": "df6ce7d9",
   "metadata": {},
   "source": [
    "All columns are checked and will be put in the same style (all lowercase, spaces instead of underscore). Further details are mentioned at each column."
   ]
  },
  {
   "cell_type": "code",
   "execution_count": 3,
   "id": "b6e23f61",
   "metadata": {},
   "outputs": [
    {
     "name": "stdout",
     "output_type": "stream",
     "text": [
      "id\n",
      "NAME\n",
      "host id\n",
      "host_identity_verified\n",
      "host name\n",
      "neighbourhood group\n",
      "neighbourhood\n",
      "lat\n",
      "long\n",
      "country\n",
      "country code\n",
      "instant_bookable\n",
      "cancellation_policy\n",
      "room type\n",
      "Construction year\n",
      "price\n",
      "service fee\n",
      "minimum nights\n",
      "number of reviews\n",
      "last review\n",
      "reviews per month\n",
      "review rate number\n",
      "calculated host listings count\n",
      "availability 365\n",
      "house_rules\n",
      "license\n"
     ]
    }
   ],
   "source": [
    "for col in Airbnb_data.columns:\n",
    "    print(col)"
   ]
  },
  {
   "cell_type": "code",
   "execution_count": 4,
   "id": "90628063",
   "metadata": {},
   "outputs": [
    {
     "data": {
      "text/plain": [
       "102599"
      ]
     },
     "execution_count": 4,
     "metadata": {},
     "output_type": "execute_result"
    }
   ],
   "source": [
    "len(Airbnb_data)"
   ]
  },
  {
   "cell_type": "markdown",
   "id": "51db8fe7",
   "metadata": {},
   "source": [
    "#### ID"
   ]
  },
  {
   "cell_type": "markdown",
   "id": "43b1256c",
   "metadata": {},
   "source": [
    "Id is very important, so this column should be handled first. There should only be unique id's, since this is the key value."
   ]
  },
  {
   "cell_type": "code",
   "execution_count": 5,
   "id": "99ac1c5f",
   "metadata": {},
   "outputs": [
    {
     "data": {
      "text/html": [
       "<div>\n",
       "<style scoped>\n",
       "    .dataframe tbody tr th:only-of-type {\n",
       "        vertical-align: middle;\n",
       "    }\n",
       "\n",
       "    .dataframe tbody tr th {\n",
       "        vertical-align: top;\n",
       "    }\n",
       "\n",
       "    .dataframe thead th {\n",
       "        text-align: right;\n",
       "    }\n",
       "</style>\n",
       "<table border=\"1\" class=\"dataframe\">\n",
       "  <thead>\n",
       "    <tr style=\"text-align: right;\">\n",
       "      <th></th>\n",
       "      <th>id</th>\n",
       "      <th>NAME</th>\n",
       "      <th>host id</th>\n",
       "      <th>host_identity_verified</th>\n",
       "      <th>host name</th>\n",
       "      <th>neighbourhood group</th>\n",
       "      <th>neighbourhood</th>\n",
       "      <th>lat</th>\n",
       "      <th>long</th>\n",
       "      <th>country</th>\n",
       "      <th>...</th>\n",
       "      <th>service fee</th>\n",
       "      <th>minimum nights</th>\n",
       "      <th>number of reviews</th>\n",
       "      <th>last review</th>\n",
       "      <th>reviews per month</th>\n",
       "      <th>review rate number</th>\n",
       "      <th>calculated host listings count</th>\n",
       "      <th>availability 365</th>\n",
       "      <th>house_rules</th>\n",
       "      <th>license</th>\n",
       "    </tr>\n",
       "  </thead>\n",
       "  <tbody>\n",
       "  </tbody>\n",
       "</table>\n",
       "<p>0 rows × 26 columns</p>\n",
       "</div>"
      ],
      "text/plain": [
       "Empty DataFrame\n",
       "Columns: [id, NAME, host id, host_identity_verified, host name, neighbourhood group, neighbourhood, lat, long, country, country code, instant_bookable, cancellation_policy, room type, Construction year, price, service fee, minimum nights, number of reviews, last review, reviews per month, review rate number, calculated host listings count, availability 365, house_rules, license]\n",
       "Index: []\n",
       "\n",
       "[0 rows x 26 columns]"
      ]
     },
     "execution_count": 5,
     "metadata": {},
     "output_type": "execute_result"
    }
   ],
   "source": [
    "#There are no empty cells in the id column, which is promising\n",
    "Airbnb_data[Airbnb_data['id'].isna()]"
   ]
  },
  {
   "cell_type": "code",
   "execution_count": 6,
   "id": "370d570a",
   "metadata": {},
   "outputs": [
    {
     "data": {
      "text/plain": [
       "102058"
      ]
     },
     "execution_count": 6,
     "metadata": {},
     "output_type": "execute_result"
    }
   ],
   "source": [
    "#The length of unique id's is 541 less than the total length, so one is listed double\n",
    "len(Airbnb_data['id'].unique())"
   ]
  },
  {
   "cell_type": "markdown",
   "id": "881080fa",
   "metadata": {},
   "source": [
    "Above we found out that there are id's that appear more than once. Research how"
   ]
  },
  {
   "cell_type": "code",
   "execution_count": 7,
   "id": "55ba02b5",
   "metadata": {},
   "outputs": [
    {
     "data": {
      "text/plain": [
       "array([1, 0, 2], dtype=int64)"
      ]
     },
     "execution_count": 7,
     "metadata": {},
     "output_type": "execute_result"
    }
   ],
   "source": [
    "bnb_id = Airbnb_data.groupby('id')\n",
    "bnb_count = bnb_id.count()\n",
    "bnb_count['NAME'].unique()\n"
   ]
  },
  {
   "cell_type": "code",
   "execution_count": 8,
   "id": "536de5cb",
   "metadata": {},
   "outputs": [],
   "source": [
    "bnb_count = bnb_count[bnb_count.isin([2]).any(axis=1)]\n",
    "double_id = list(bnb_count.index)"
   ]
  },
  {
   "cell_type": "code",
   "execution_count": 9,
   "id": "06526f9b",
   "metadata": {},
   "outputs": [
    {
     "data": {
      "text/html": [
       "<div>\n",
       "<style scoped>\n",
       "    .dataframe tbody tr th:only-of-type {\n",
       "        vertical-align: middle;\n",
       "    }\n",
       "\n",
       "    .dataframe tbody tr th {\n",
       "        vertical-align: top;\n",
       "    }\n",
       "\n",
       "    .dataframe thead th {\n",
       "        text-align: right;\n",
       "    }\n",
       "</style>\n",
       "<table border=\"1\" class=\"dataframe\">\n",
       "  <thead>\n",
       "    <tr style=\"text-align: right;\">\n",
       "      <th></th>\n",
       "      <th>id</th>\n",
       "      <th>NAME</th>\n",
       "      <th>host id</th>\n",
       "      <th>host_identity_verified</th>\n",
       "      <th>host name</th>\n",
       "      <th>neighbourhood group</th>\n",
       "      <th>neighbourhood</th>\n",
       "      <th>lat</th>\n",
       "      <th>long</th>\n",
       "      <th>country</th>\n",
       "      <th>...</th>\n",
       "      <th>service fee</th>\n",
       "      <th>minimum nights</th>\n",
       "      <th>number of reviews</th>\n",
       "      <th>last review</th>\n",
       "      <th>reviews per month</th>\n",
       "      <th>review rate number</th>\n",
       "      <th>calculated host listings count</th>\n",
       "      <th>availability 365</th>\n",
       "      <th>house_rules</th>\n",
       "      <th>license</th>\n",
       "    </tr>\n",
       "  </thead>\n",
       "  <tbody>\n",
       "    <tr>\n",
       "      <th>9098</th>\n",
       "      <td>6026161</td>\n",
       "      <td>Upper East Side 2 bedroom- close to Hospitals-</td>\n",
       "      <td>65193709566</td>\n",
       "      <td>verified</td>\n",
       "      <td>Juliana</td>\n",
       "      <td>Manhattan</td>\n",
       "      <td>Upper East Side</td>\n",
       "      <td>40.76222</td>\n",
       "      <td>-73.96030</td>\n",
       "      <td>United States</td>\n",
       "      <td>...</td>\n",
       "      <td>$21</td>\n",
       "      <td>30.0</td>\n",
       "      <td>2.0</td>\n",
       "      <td>6/8/2019</td>\n",
       "      <td>0.21</td>\n",
       "      <td>3.0</td>\n",
       "      <td>34.0</td>\n",
       "      <td>157.0</td>\n",
       "      <td>NaN</td>\n",
       "      <td>NaN</td>\n",
       "    </tr>\n",
       "    <tr>\n",
       "      <th>102474</th>\n",
       "      <td>6026161</td>\n",
       "      <td>Upper East Side 2 bedroom- close to Hospitals-</td>\n",
       "      <td>65193709566</td>\n",
       "      <td>verified</td>\n",
       "      <td>Juliana</td>\n",
       "      <td>Manhattan</td>\n",
       "      <td>Upper East Side</td>\n",
       "      <td>40.76222</td>\n",
       "      <td>-73.96030</td>\n",
       "      <td>United States</td>\n",
       "      <td>...</td>\n",
       "      <td>$21</td>\n",
       "      <td>30.0</td>\n",
       "      <td>2.0</td>\n",
       "      <td>6/8/2019</td>\n",
       "      <td>0.21</td>\n",
       "      <td>3.0</td>\n",
       "      <td>34.0</td>\n",
       "      <td>157.0</td>\n",
       "      <td>NaN</td>\n",
       "      <td>NaN</td>\n",
       "    </tr>\n",
       "    <tr>\n",
       "      <th>102475</th>\n",
       "      <td>6026714</td>\n",
       "      <td>Close to East Side Hospitals- Modern 2 Bedroom...</td>\n",
       "      <td>31072202372</td>\n",
       "      <td>verified</td>\n",
       "      <td>Juliana</td>\n",
       "      <td>Manhattan</td>\n",
       "      <td>Upper East Side</td>\n",
       "      <td>40.76249</td>\n",
       "      <td>-73.96217</td>\n",
       "      <td>United States</td>\n",
       "      <td>...</td>\n",
       "      <td>$57</td>\n",
       "      <td>30.0</td>\n",
       "      <td>6.0</td>\n",
       "      <td>1/31/2019</td>\n",
       "      <td>0.14</td>\n",
       "      <td>3.0</td>\n",
       "      <td>34.0</td>\n",
       "      <td>67.0</td>\n",
       "      <td>The quieter the better, but otherwise make you...</td>\n",
       "      <td>NaN</td>\n",
       "    </tr>\n",
       "    <tr>\n",
       "      <th>9099</th>\n",
       "      <td>6026714</td>\n",
       "      <td>Close to East Side Hospitals- Modern 2 Bedroom...</td>\n",
       "      <td>31072202372</td>\n",
       "      <td>verified</td>\n",
       "      <td>Juliana</td>\n",
       "      <td>Manhattan</td>\n",
       "      <td>Upper East Side</td>\n",
       "      <td>40.76249</td>\n",
       "      <td>-73.96217</td>\n",
       "      <td>United States</td>\n",
       "      <td>...</td>\n",
       "      <td>$57</td>\n",
       "      <td>30.0</td>\n",
       "      <td>6.0</td>\n",
       "      <td>1/31/2019</td>\n",
       "      <td>0.14</td>\n",
       "      <td>3.0</td>\n",
       "      <td>34.0</td>\n",
       "      <td>67.0</td>\n",
       "      <td>The quieter the better, but otherwise make you...</td>\n",
       "      <td>NaN</td>\n",
       "    </tr>\n",
       "    <tr>\n",
       "      <th>9100</th>\n",
       "      <td>6027266</td>\n",
       "      <td>ACADIA Spacious 2 Bedroom Apt - Close to Hospi...</td>\n",
       "      <td>95854111798</td>\n",
       "      <td>verified</td>\n",
       "      <td>Juliana</td>\n",
       "      <td>Manhattan</td>\n",
       "      <td>Upper East Side</td>\n",
       "      <td>40.76021</td>\n",
       "      <td>-73.96157</td>\n",
       "      <td>United States</td>\n",
       "      <td>...</td>\n",
       "      <td>$117</td>\n",
       "      <td>30.0</td>\n",
       "      <td>10.0</td>\n",
       "      <td>11/18/2018</td>\n",
       "      <td>0.22</td>\n",
       "      <td>5.0</td>\n",
       "      <td>34.0</td>\n",
       "      <td>211.0</td>\n",
       "      <td>No Smoking No Pets</td>\n",
       "      <td>NaN</td>\n",
       "    </tr>\n",
       "    <tr>\n",
       "      <th>...</th>\n",
       "      <td>...</td>\n",
       "      <td>...</td>\n",
       "      <td>...</td>\n",
       "      <td>...</td>\n",
       "      <td>...</td>\n",
       "      <td>...</td>\n",
       "      <td>...</td>\n",
       "      <td>...</td>\n",
       "      <td>...</td>\n",
       "      <td>...</td>\n",
       "      <td>...</td>\n",
       "      <td>...</td>\n",
       "      <td>...</td>\n",
       "      <td>...</td>\n",
       "      <td>...</td>\n",
       "      <td>...</td>\n",
       "      <td>...</td>\n",
       "      <td>...</td>\n",
       "      <td>...</td>\n",
       "      <td>...</td>\n",
       "      <td>...</td>\n",
       "    </tr>\n",
       "    <tr>\n",
       "      <th>62657</th>\n",
       "      <td>35606797</td>\n",
       "      <td>Bright and Beautiful Top Floor Two Bedrooms</td>\n",
       "      <td>65331079885</td>\n",
       "      <td>unconfirmed</td>\n",
       "      <td>Frankie</td>\n",
       "      <td>Brooklyn</td>\n",
       "      <td>Carroll Gardens</td>\n",
       "      <td>40.68383</td>\n",
       "      <td>-73.99281</td>\n",
       "      <td>United States</td>\n",
       "      <td>...</td>\n",
       "      <td>$205</td>\n",
       "      <td>30.0</td>\n",
       "      <td>18.0</td>\n",
       "      <td>11/4/2021</td>\n",
       "      <td>0.63</td>\n",
       "      <td>2.0</td>\n",
       "      <td>1.0</td>\n",
       "      <td>3.0</td>\n",
       "      <td>NaN</td>\n",
       "      <td>NaN</td>\n",
       "    </tr>\n",
       "    <tr>\n",
       "      <th>102240</th>\n",
       "      <td>35607349</td>\n",
       "      <td>Modern &amp; Bright Queen Bedroom Midtown East</td>\n",
       "      <td>57770451783</td>\n",
       "      <td>unconfirmed</td>\n",
       "      <td>David</td>\n",
       "      <td>Manhattan</td>\n",
       "      <td>Upper East Side</td>\n",
       "      <td>40.76132</td>\n",
       "      <td>-73.96064</td>\n",
       "      <td>United States</td>\n",
       "      <td>...</td>\n",
       "      <td>$28</td>\n",
       "      <td>30.0</td>\n",
       "      <td>1.0</td>\n",
       "      <td>11/4/2021</td>\n",
       "      <td>0.25</td>\n",
       "      <td>3.0</td>\n",
       "      <td>4.0</td>\n",
       "      <td>307.0</td>\n",
       "      <td>NaN</td>\n",
       "      <td>NaN</td>\n",
       "    </tr>\n",
       "    <tr>\n",
       "      <th>62658</th>\n",
       "      <td>35607349</td>\n",
       "      <td>Modern &amp; Bright Queen Bedroom Midtown East</td>\n",
       "      <td>57770451783</td>\n",
       "      <td>unconfirmed</td>\n",
       "      <td>David</td>\n",
       "      <td>Manhattan</td>\n",
       "      <td>Upper East Side</td>\n",
       "      <td>40.76132</td>\n",
       "      <td>-73.96064</td>\n",
       "      <td>United States</td>\n",
       "      <td>...</td>\n",
       "      <td>$28</td>\n",
       "      <td>30.0</td>\n",
       "      <td>1.0</td>\n",
       "      <td>11/4/2021</td>\n",
       "      <td>0.25</td>\n",
       "      <td>3.0</td>\n",
       "      <td>4.0</td>\n",
       "      <td>307.0</td>\n",
       "      <td>NaN</td>\n",
       "      <td>NaN</td>\n",
       "    </tr>\n",
       "    <tr>\n",
       "      <th>102241</th>\n",
       "      <td>35607902</td>\n",
       "      <td>Modern NEW Room|PRIVATE BATHROOM</td>\n",
       "      <td>7431680152</td>\n",
       "      <td>verified</td>\n",
       "      <td>Dariia &amp; Jacob</td>\n",
       "      <td>Brooklyn</td>\n",
       "      <td>Bedford-Stuyvesant</td>\n",
       "      <td>40.68990</td>\n",
       "      <td>-73.94074</td>\n",
       "      <td>United States</td>\n",
       "      <td>...</td>\n",
       "      <td>$57</td>\n",
       "      <td>30.0</td>\n",
       "      <td>1.0</td>\n",
       "      <td>11/4/2021</td>\n",
       "      <td>0.25</td>\n",
       "      <td>2.0</td>\n",
       "      <td>10.0</td>\n",
       "      <td>365.0</td>\n",
       "      <td>NaN</td>\n",
       "      <td>NaN</td>\n",
       "    </tr>\n",
       "    <tr>\n",
       "      <th>62659</th>\n",
       "      <td>35607902</td>\n",
       "      <td>Modern NEW Room|PRIVATE BATHROOM</td>\n",
       "      <td>7431680152</td>\n",
       "      <td>verified</td>\n",
       "      <td>Dariia &amp; Jacob</td>\n",
       "      <td>Brooklyn</td>\n",
       "      <td>Bedford-Stuyvesant</td>\n",
       "      <td>40.68990</td>\n",
       "      <td>-73.94074</td>\n",
       "      <td>United States</td>\n",
       "      <td>...</td>\n",
       "      <td>$57</td>\n",
       "      <td>30.0</td>\n",
       "      <td>1.0</td>\n",
       "      <td>11/4/2021</td>\n",
       "      <td>0.25</td>\n",
       "      <td>2.0</td>\n",
       "      <td>10.0</td>\n",
       "      <td>365.0</td>\n",
       "      <td>NaN</td>\n",
       "      <td>NaN</td>\n",
       "    </tr>\n",
       "  </tbody>\n",
       "</table>\n",
       "<p>1082 rows × 26 columns</p>\n",
       "</div>"
      ],
      "text/plain": [
       "              id                                               NAME  \\\n",
       "9098     6026161     Upper East Side 2 bedroom- close to Hospitals-   \n",
       "102474   6026161     Upper East Side 2 bedroom- close to Hospitals-   \n",
       "102475   6026714  Close to East Side Hospitals- Modern 2 Bedroom...   \n",
       "9099     6026714  Close to East Side Hospitals- Modern 2 Bedroom...   \n",
       "9100     6027266  ACADIA Spacious 2 Bedroom Apt - Close to Hospi...   \n",
       "...          ...                                                ...   \n",
       "62657   35606797        Bright and Beautiful Top Floor Two Bedrooms   \n",
       "102240  35607349         Modern & Bright Queen Bedroom Midtown East   \n",
       "62658   35607349         Modern & Bright Queen Bedroom Midtown East   \n",
       "102241  35607902                   Modern NEW Room|PRIVATE BATHROOM   \n",
       "62659   35607902                   Modern NEW Room|PRIVATE BATHROOM   \n",
       "\n",
       "            host id host_identity_verified       host name  \\\n",
       "9098    65193709566               verified         Juliana   \n",
       "102474  65193709566               verified         Juliana   \n",
       "102475  31072202372               verified         Juliana   \n",
       "9099    31072202372               verified         Juliana   \n",
       "9100    95854111798               verified         Juliana   \n",
       "...             ...                    ...             ...   \n",
       "62657   65331079885            unconfirmed         Frankie   \n",
       "102240  57770451783            unconfirmed           David   \n",
       "62658   57770451783            unconfirmed           David   \n",
       "102241   7431680152               verified  Dariia & Jacob   \n",
       "62659    7431680152               verified  Dariia & Jacob   \n",
       "\n",
       "       neighbourhood group       neighbourhood       lat      long  \\\n",
       "9098             Manhattan     Upper East Side  40.76222 -73.96030   \n",
       "102474           Manhattan     Upper East Side  40.76222 -73.96030   \n",
       "102475           Manhattan     Upper East Side  40.76249 -73.96217   \n",
       "9099             Manhattan     Upper East Side  40.76249 -73.96217   \n",
       "9100             Manhattan     Upper East Side  40.76021 -73.96157   \n",
       "...                    ...                 ...       ...       ...   \n",
       "62657             Brooklyn     Carroll Gardens  40.68383 -73.99281   \n",
       "102240           Manhattan     Upper East Side  40.76132 -73.96064   \n",
       "62658            Manhattan     Upper East Side  40.76132 -73.96064   \n",
       "102241            Brooklyn  Bedford-Stuyvesant  40.68990 -73.94074   \n",
       "62659             Brooklyn  Bedford-Stuyvesant  40.68990 -73.94074   \n",
       "\n",
       "              country  ... service fee minimum nights number of reviews  \\\n",
       "9098    United States  ...        $21            30.0               2.0   \n",
       "102474  United States  ...        $21            30.0               2.0   \n",
       "102475  United States  ...        $57            30.0               6.0   \n",
       "9099    United States  ...        $57            30.0               6.0   \n",
       "9100    United States  ...       $117            30.0              10.0   \n",
       "...               ...  ...         ...            ...               ...   \n",
       "62657   United States  ...       $205            30.0              18.0   \n",
       "102240  United States  ...        $28            30.0               1.0   \n",
       "62658   United States  ...        $28            30.0               1.0   \n",
       "102241  United States  ...        $57            30.0               1.0   \n",
       "62659   United States  ...        $57            30.0               1.0   \n",
       "\n",
       "       last review  reviews per month review rate number  \\\n",
       "9098      6/8/2019               0.21                3.0   \n",
       "102474    6/8/2019               0.21                3.0   \n",
       "102475   1/31/2019               0.14                3.0   \n",
       "9099     1/31/2019               0.14                3.0   \n",
       "9100    11/18/2018               0.22                5.0   \n",
       "...            ...                ...                ...   \n",
       "62657    11/4/2021               0.63                2.0   \n",
       "102240   11/4/2021               0.25                3.0   \n",
       "62658    11/4/2021               0.25                3.0   \n",
       "102241   11/4/2021               0.25                2.0   \n",
       "62659    11/4/2021               0.25                2.0   \n",
       "\n",
       "       calculated host listings count  availability 365  \\\n",
       "9098                             34.0             157.0   \n",
       "102474                           34.0             157.0   \n",
       "102475                           34.0              67.0   \n",
       "9099                             34.0              67.0   \n",
       "9100                             34.0             211.0   \n",
       "...                               ...               ...   \n",
       "62657                             1.0               3.0   \n",
       "102240                            4.0             307.0   \n",
       "62658                             4.0             307.0   \n",
       "102241                           10.0             365.0   \n",
       "62659                            10.0             365.0   \n",
       "\n",
       "                                              house_rules license  \n",
       "9098                                                  NaN     NaN  \n",
       "102474                                                NaN     NaN  \n",
       "102475  The quieter the better, but otherwise make you...     NaN  \n",
       "9099    The quieter the better, but otherwise make you...     NaN  \n",
       "9100                                   No Smoking No Pets     NaN  \n",
       "...                                                   ...     ...  \n",
       "62657                                                 NaN     NaN  \n",
       "102240                                                NaN     NaN  \n",
       "62658                                                 NaN     NaN  \n",
       "102241                                                NaN     NaN  \n",
       "62659                                                 NaN     NaN  \n",
       "\n",
       "[1082 rows x 26 columns]"
      ]
     },
     "execution_count": 9,
     "metadata": {},
     "output_type": "execute_result"
    }
   ],
   "source": [
    "Airbnb_data[Airbnb_data['id'].isin(double_id)].sort_values(by = 'id')"
   ]
  },
  {
   "cell_type": "markdown",
   "id": "f4fc91dc",
   "metadata": {},
   "source": [
    "When checking, it seems like they are the same Airbnb, so drop the duplicates."
   ]
  },
  {
   "cell_type": "code",
   "execution_count": 10,
   "id": "5221d00b",
   "metadata": {},
   "outputs": [],
   "source": [
    "Airbnb_data.drop_duplicates(inplace=True)"
   ]
  },
  {
   "cell_type": "markdown",
   "id": "83401876",
   "metadata": {},
   "source": [
    "#### Host id"
   ]
  },
  {
   "cell_type": "markdown",
   "id": "d486d346",
   "metadata": {},
   "source": [
    "The host id is the key value to identify the owner of the Airbnb, so this is also a very important value."
   ]
  },
  {
   "cell_type": "code",
   "execution_count": 11,
   "id": "a7f8c696",
   "metadata": {
    "scrolled": false
   },
   "outputs": [
    {
     "data": {
      "text/html": [
       "<div>\n",
       "<style scoped>\n",
       "    .dataframe tbody tr th:only-of-type {\n",
       "        vertical-align: middle;\n",
       "    }\n",
       "\n",
       "    .dataframe tbody tr th {\n",
       "        vertical-align: top;\n",
       "    }\n",
       "\n",
       "    .dataframe thead th {\n",
       "        text-align: right;\n",
       "    }\n",
       "</style>\n",
       "<table border=\"1\" class=\"dataframe\">\n",
       "  <thead>\n",
       "    <tr style=\"text-align: right;\">\n",
       "      <th></th>\n",
       "      <th>id</th>\n",
       "      <th>NAME</th>\n",
       "      <th>host id</th>\n",
       "      <th>host_identity_verified</th>\n",
       "      <th>host name</th>\n",
       "      <th>neighbourhood group</th>\n",
       "      <th>neighbourhood</th>\n",
       "      <th>lat</th>\n",
       "      <th>long</th>\n",
       "      <th>country</th>\n",
       "      <th>...</th>\n",
       "      <th>service fee</th>\n",
       "      <th>minimum nights</th>\n",
       "      <th>number of reviews</th>\n",
       "      <th>last review</th>\n",
       "      <th>reviews per month</th>\n",
       "      <th>review rate number</th>\n",
       "      <th>calculated host listings count</th>\n",
       "      <th>availability 365</th>\n",
       "      <th>house_rules</th>\n",
       "      <th>license</th>\n",
       "    </tr>\n",
       "  </thead>\n",
       "  <tbody>\n",
       "  </tbody>\n",
       "</table>\n",
       "<p>0 rows × 26 columns</p>\n",
       "</div>"
      ],
      "text/plain": [
       "Empty DataFrame\n",
       "Columns: [id, NAME, host id, host_identity_verified, host name, neighbourhood group, neighbourhood, lat, long, country, country code, instant_bookable, cancellation_policy, room type, Construction year, price, service fee, minimum nights, number of reviews, last review, reviews per month, review rate number, calculated host listings count, availability 365, house_rules, license]\n",
       "Index: []\n",
       "\n",
       "[0 rows x 26 columns]"
      ]
     },
     "execution_count": 11,
     "metadata": {},
     "output_type": "execute_result"
    }
   ],
   "source": [
    "Airbnb_data[Airbnb_data['host id'].isna()]"
   ]
  },
  {
   "cell_type": "markdown",
   "id": "692747c1",
   "metadata": {},
   "source": [
    "#### Country and country code"
   ]
  },
  {
   "cell_type": "code",
   "execution_count": 12,
   "id": "50a1108d",
   "metadata": {},
   "outputs": [
    {
     "data": {
      "text/plain": [
       "(array(['United States', nan], dtype=object), array(['US', nan], dtype=object))"
      ]
     },
     "execution_count": 12,
     "metadata": {},
     "output_type": "execute_result"
    }
   ],
   "source": [
    "Airbnb_data['country'].unique(), Airbnb_data['country code'].unique()"
   ]
  },
  {
   "cell_type": "markdown",
   "id": "891edb3b",
   "metadata": {},
   "source": [
    "All Airbnb's are in New York, and all values are either the same or missing, so these columns give no information"
   ]
  },
  {
   "cell_type": "code",
   "execution_count": 13,
   "id": "bee4c2ec",
   "metadata": {},
   "outputs": [],
   "source": [
    "Airbnb_data.drop(['country', 'country code'], axis = 1, inplace = True)"
   ]
  },
  {
   "cell_type": "markdown",
   "id": "d50e5c9a",
   "metadata": {},
   "source": [
    "#### Name"
   ]
  },
  {
   "cell_type": "markdown",
   "id": "0b12d129",
   "metadata": {},
   "source": [
    "The name is a short description of the apartment/home. If it has no value, we have no description. We will have to discuss what to do with this. I suggest replacing it with 'No description'."
   ]
  },
  {
   "cell_type": "code",
   "execution_count": 14,
   "id": "d77bf2ff",
   "metadata": {},
   "outputs": [],
   "source": [
    "Airbnb_data.rename(columns = {'NAME': 'name'}, inplace=True)"
   ]
  },
  {
   "cell_type": "code",
   "execution_count": 15,
   "id": "f9e1f862",
   "metadata": {},
   "outputs": [],
   "source": [
    "Airbnb_data['name'].fillna('No description', inplace=True)"
   ]
  },
  {
   "cell_type": "markdown",
   "id": "53c273c4",
   "metadata": {},
   "source": [
    "#### host_identity_verified"
   ]
  },
  {
   "cell_type": "markdown",
   "id": "7d356419",
   "metadata": {},
   "source": [
    "Host identity verified tells us whether the owner of the Airbnb is verified, meaning that they uploaded their Passport, ID or something similar. Airbnb uses this to ensure safety and trust. For guests, verification ensures that the Airbnb is no scam."
   ]
  },
  {
   "cell_type": "code",
   "execution_count": 16,
   "id": "a0c6caf1",
   "metadata": {},
   "outputs": [],
   "source": [
    "Airbnb_data.rename(columns = {'host_identity_verified': 'host identity verified'}, inplace=True)"
   ]
  },
  {
   "cell_type": "code",
   "execution_count": 17,
   "id": "836c7645",
   "metadata": {},
   "outputs": [
    {
     "data": {
      "text/plain": [
       "array(['unconfirmed', 'verified', nan], dtype=object)"
      ]
     },
     "execution_count": 17,
     "metadata": {},
     "output_type": "execute_result"
    }
   ],
   "source": [
    "Airbnb_data['host identity verified'].unique()"
   ]
  },
  {
   "cell_type": "markdown",
   "id": "415c9dce",
   "metadata": {},
   "source": [
    "Either the values are verified or unconfirmed (meaning not verified in my opinion). to clear this up, we might want to change unconfirmed to not verified and nan to 'missing' or 'unknown'."
   ]
  },
  {
   "cell_type": "code",
   "execution_count": 18,
   "id": "b8685ff1",
   "metadata": {},
   "outputs": [],
   "source": [
    "Airbnb_data['host identity verified'].replace('unconfirmed', 'not verified', inplace=True)\n",
    "Airbnb_data['host identity verified'].fillna('unknown', inplace=True)"
   ]
  },
  {
   "cell_type": "markdown",
   "id": "007def51",
   "metadata": {},
   "source": [
    "#### Host name"
   ]
  },
  {
   "cell_type": "markdown",
   "id": "56cbcd91",
   "metadata": {},
   "source": [
    "Host name is nice for in the visualization, but missing values are not very impactful. These can be changed to 'Unknown' or something similar."
   ]
  },
  {
   "cell_type": "code",
   "execution_count": 19,
   "id": "8da4e607",
   "metadata": {},
   "outputs": [],
   "source": [
    "Airbnb_data['host name'].fillna('unknown', inplace=True)"
   ]
  },
  {
   "cell_type": "markdown",
   "id": "68cae517",
   "metadata": {},
   "source": [
    "#### Neighborhood and Neighborhood group"
   ]
  },
  {
   "cell_type": "markdown",
   "id": "2fc08f01",
   "metadata": {},
   "source": [
    "Neighborhood and neighborhood group are nice to know, but not the most important in my opinion. for the visualization, we use longitude and latitude, and we can represen in which neighborhoods they lie with those values alone. I'll leave it for now, but won't research it further."
   ]
  },
  {
   "cell_type": "markdown",
   "id": "68e6982d",
   "metadata": {},
   "source": [
    "#### longitude and latitude"
   ]
  },
  {
   "cell_type": "markdown",
   "id": "688c8272",
   "metadata": {},
   "source": [
    "Longitude and latitude are used to place the Airbnb's on the visualization. If one of these values are missing, I won't know a way to find the correct values, so I will remove these. I also will check if there are weird values that are way out of New York."
   ]
  },
  {
   "cell_type": "code",
   "execution_count": 20,
   "id": "25e0130e",
   "metadata": {},
   "outputs": [
    {
     "data": {
      "text/html": [
       "<div>\n",
       "<style scoped>\n",
       "    .dataframe tbody tr th:only-of-type {\n",
       "        vertical-align: middle;\n",
       "    }\n",
       "\n",
       "    .dataframe tbody tr th {\n",
       "        vertical-align: top;\n",
       "    }\n",
       "\n",
       "    .dataframe thead th {\n",
       "        text-align: right;\n",
       "    }\n",
       "</style>\n",
       "<table border=\"1\" class=\"dataframe\">\n",
       "  <thead>\n",
       "    <tr style=\"text-align: right;\">\n",
       "      <th></th>\n",
       "      <th>id</th>\n",
       "      <th>name</th>\n",
       "      <th>host id</th>\n",
       "      <th>host identity verified</th>\n",
       "      <th>host name</th>\n",
       "      <th>neighbourhood group</th>\n",
       "      <th>neighbourhood</th>\n",
       "      <th>lat</th>\n",
       "      <th>long</th>\n",
       "      <th>instant_bookable</th>\n",
       "      <th>...</th>\n",
       "      <th>service fee</th>\n",
       "      <th>minimum nights</th>\n",
       "      <th>number of reviews</th>\n",
       "      <th>last review</th>\n",
       "      <th>reviews per month</th>\n",
       "      <th>review rate number</th>\n",
       "      <th>calculated host listings count</th>\n",
       "      <th>availability 365</th>\n",
       "      <th>house_rules</th>\n",
       "      <th>license</th>\n",
       "    </tr>\n",
       "  </thead>\n",
       "  <tbody>\n",
       "    <tr>\n",
       "      <th>779</th>\n",
       "      <td>1431578</td>\n",
       "      <td>Large, furnished room in a 2 bedroom!</td>\n",
       "      <td>20368956893</td>\n",
       "      <td>not verified</td>\n",
       "      <td>Gibson</td>\n",
       "      <td>Brooklyn</td>\n",
       "      <td>Crown Heights</td>\n",
       "      <td>NaN</td>\n",
       "      <td>NaN</td>\n",
       "      <td>False</td>\n",
       "      <td>...</td>\n",
       "      <td>$108</td>\n",
       "      <td>1.0</td>\n",
       "      <td>1.0</td>\n",
       "      <td>3/18/2017</td>\n",
       "      <td>0.04</td>\n",
       "      <td>2.0</td>\n",
       "      <td>1.0</td>\n",
       "      <td>41.0</td>\n",
       "      <td>- Weekly and monthly prices are much lower - P...</td>\n",
       "      <td>NaN</td>\n",
       "    </tr>\n",
       "    <tr>\n",
       "      <th>785</th>\n",
       "      <td>1434892</td>\n",
       "      <td>Authentic NY Charming Artist Loft</td>\n",
       "      <td>66486085219</td>\n",
       "      <td>not verified</td>\n",
       "      <td>Bailey</td>\n",
       "      <td>Brooklyn</td>\n",
       "      <td>Greenpoint</td>\n",
       "      <td>NaN</td>\n",
       "      <td>NaN</td>\n",
       "      <td>False</td>\n",
       "      <td>...</td>\n",
       "      <td>$212</td>\n",
       "      <td>5.0</td>\n",
       "      <td>14.0</td>\n",
       "      <td>6/19/2019</td>\n",
       "      <td>0.16</td>\n",
       "      <td>5.0</td>\n",
       "      <td>1.0</td>\n",
       "      <td>226.0</td>\n",
       "      <td>We live and let live - hoping that you'd be re...</td>\n",
       "      <td>NaN</td>\n",
       "    </tr>\n",
       "    <tr>\n",
       "      <th>799</th>\n",
       "      <td>1442624</td>\n",
       "      <td>Huge room with private balcony</td>\n",
       "      <td>69386945815</td>\n",
       "      <td>verified</td>\n",
       "      <td>Hunt</td>\n",
       "      <td>Manhattan</td>\n",
       "      <td>East Village</td>\n",
       "      <td>NaN</td>\n",
       "      <td>NaN</td>\n",
       "      <td>False</td>\n",
       "      <td>...</td>\n",
       "      <td>$101</td>\n",
       "      <td>6.0</td>\n",
       "      <td>1.0</td>\n",
       "      <td>5/6/2013</td>\n",
       "      <td>0.01</td>\n",
       "      <td>1.0</td>\n",
       "      <td>1.0</td>\n",
       "      <td>240.0</td>\n",
       "      <td>Expect respect for the family and the space--t...</td>\n",
       "      <td>NaN</td>\n",
       "    </tr>\n",
       "    <tr>\n",
       "      <th>814</th>\n",
       "      <td>1450908</td>\n",
       "      <td>Decorators 5-Star Flat West Village</td>\n",
       "      <td>33280739304</td>\n",
       "      <td>verified</td>\n",
       "      <td>Watson</td>\n",
       "      <td>Manhattan</td>\n",
       "      <td>West Village</td>\n",
       "      <td>NaN</td>\n",
       "      <td>NaN</td>\n",
       "      <td>True</td>\n",
       "      <td>...</td>\n",
       "      <td>$76</td>\n",
       "      <td>20.0</td>\n",
       "      <td>157.0</td>\n",
       "      <td>8/11/2016</td>\n",
       "      <td>1.71</td>\n",
       "      <td>4.0</td>\n",
       "      <td>1.0</td>\n",
       "      <td>61.0</td>\n",
       "      <td>Please keep it clean, thats all we really ask ...</td>\n",
       "      <td>NaN</td>\n",
       "    </tr>\n",
       "    <tr>\n",
       "      <th>843</th>\n",
       "      <td>1466925</td>\n",
       "      <td>Nice Private Room Beauty in Queens</td>\n",
       "      <td>15305733205</td>\n",
       "      <td>verified</td>\n",
       "      <td>Roberts</td>\n",
       "      <td>Queens</td>\n",
       "      <td>Elmhurst</td>\n",
       "      <td>NaN</td>\n",
       "      <td>NaN</td>\n",
       "      <td>True</td>\n",
       "      <td>...</td>\n",
       "      <td>$45</td>\n",
       "      <td>1.0</td>\n",
       "      <td>63.0</td>\n",
       "      <td>5/18/2019</td>\n",
       "      <td>0.89</td>\n",
       "      <td>3.0</td>\n",
       "      <td>2.0</td>\n",
       "      <td>70.0</td>\n",
       "      <td>NaN</td>\n",
       "      <td>NaN</td>\n",
       "    </tr>\n",
       "    <tr>\n",
       "      <th>885</th>\n",
       "      <td>1490122</td>\n",
       "      <td>Cute Room in Historic Loft!</td>\n",
       "      <td>42267829819</td>\n",
       "      <td>not verified</td>\n",
       "      <td>Jones</td>\n",
       "      <td>Brooklyn</td>\n",
       "      <td>Greenpoint</td>\n",
       "      <td>NaN</td>\n",
       "      <td>NaN</td>\n",
       "      <td>True</td>\n",
       "      <td>...</td>\n",
       "      <td>$105</td>\n",
       "      <td>14.0</td>\n",
       "      <td>22.0</td>\n",
       "      <td>5/2/2019</td>\n",
       "      <td>0.25</td>\n",
       "      <td>1.0</td>\n",
       "      <td>1.0</td>\n",
       "      <td>266.0</td>\n",
       "      <td>Pets are cool (just clean up after them!), smo...</td>\n",
       "      <td>NaN</td>\n",
       "    </tr>\n",
       "    <tr>\n",
       "      <th>926</th>\n",
       "      <td>1512766</td>\n",
       "      <td>21 day Chelsea Apartment rental</td>\n",
       "      <td>10876728736</td>\n",
       "      <td>not verified</td>\n",
       "      <td>Owens</td>\n",
       "      <td>Manhattan</td>\n",
       "      <td>Flatiron District</td>\n",
       "      <td>NaN</td>\n",
       "      <td>NaN</td>\n",
       "      <td>False</td>\n",
       "      <td>...</td>\n",
       "      <td>$125</td>\n",
       "      <td>21.0</td>\n",
       "      <td>0.0</td>\n",
       "      <td>NaN</td>\n",
       "      <td>NaN</td>\n",
       "      <td>2.0</td>\n",
       "      <td>1.0</td>\n",
       "      <td>104.0</td>\n",
       "      <td>NaN</td>\n",
       "      <td>NaN</td>\n",
       "    </tr>\n",
       "    <tr>\n",
       "      <th>986</th>\n",
       "      <td>1545904</td>\n",
       "      <td>New York City for All Seasons!</td>\n",
       "      <td>26437872336</td>\n",
       "      <td>not verified</td>\n",
       "      <td>Douglas</td>\n",
       "      <td>Manhattan</td>\n",
       "      <td>Upper West Side</td>\n",
       "      <td>NaN</td>\n",
       "      <td>NaN</td>\n",
       "      <td>True</td>\n",
       "      <td>...</td>\n",
       "      <td>$83</td>\n",
       "      <td>1.0</td>\n",
       "      <td>25.0</td>\n",
       "      <td>6/22/2013</td>\n",
       "      <td>0.28</td>\n",
       "      <td>2.0</td>\n",
       "      <td>1.0</td>\n",
       "      <td>259.0</td>\n",
       "      <td>No Smoking No Pets</td>\n",
       "      <td>NaN</td>\n",
       "    </tr>\n",
       "  </tbody>\n",
       "</table>\n",
       "<p>8 rows × 24 columns</p>\n",
       "</div>"
      ],
      "text/plain": [
       "          id                                   name      host id  \\\n",
       "779  1431578  Large, furnished room in a 2 bedroom!  20368956893   \n",
       "785  1434892      Authentic NY Charming Artist Loft  66486085219   \n",
       "799  1442624         Huge room with private balcony  69386945815   \n",
       "814  1450908    Decorators 5-Star Flat West Village  33280739304   \n",
       "843  1466925     Nice Private Room Beauty in Queens  15305733205   \n",
       "885  1490122            Cute Room in Historic Loft!  42267829819   \n",
       "926  1512766        21 day Chelsea Apartment rental  10876728736   \n",
       "986  1545904         New York City for All Seasons!  26437872336   \n",
       "\n",
       "    host identity verified host name neighbourhood group      neighbourhood  \\\n",
       "779           not verified    Gibson            Brooklyn      Crown Heights   \n",
       "785           not verified    Bailey            Brooklyn         Greenpoint   \n",
       "799               verified      Hunt           Manhattan       East Village   \n",
       "814               verified    Watson           Manhattan       West Village   \n",
       "843               verified   Roberts              Queens           Elmhurst   \n",
       "885           not verified     Jones            Brooklyn         Greenpoint   \n",
       "926           not verified     Owens           Manhattan  Flatiron District   \n",
       "986           not verified   Douglas           Manhattan    Upper West Side   \n",
       "\n",
       "     lat  long instant_bookable  ... service fee minimum nights  \\\n",
       "779  NaN   NaN            False  ...       $108             1.0   \n",
       "785  NaN   NaN            False  ...       $212             5.0   \n",
       "799  NaN   NaN            False  ...       $101             6.0   \n",
       "814  NaN   NaN             True  ...        $76            20.0   \n",
       "843  NaN   NaN             True  ...        $45             1.0   \n",
       "885  NaN   NaN             True  ...       $105            14.0   \n",
       "926  NaN   NaN            False  ...       $125            21.0   \n",
       "986  NaN   NaN             True  ...        $83             1.0   \n",
       "\n",
       "     number of reviews last review reviews per month  review rate number  \\\n",
       "779                1.0   3/18/2017              0.04                 2.0   \n",
       "785               14.0   6/19/2019              0.16                 5.0   \n",
       "799                1.0    5/6/2013              0.01                 1.0   \n",
       "814              157.0   8/11/2016              1.71                 4.0   \n",
       "843               63.0   5/18/2019              0.89                 3.0   \n",
       "885               22.0    5/2/2019              0.25                 1.0   \n",
       "926                0.0         NaN               NaN                 2.0   \n",
       "986               25.0   6/22/2013              0.28                 2.0   \n",
       "\n",
       "     calculated host listings count availability 365  \\\n",
       "779                             1.0             41.0   \n",
       "785                             1.0            226.0   \n",
       "799                             1.0            240.0   \n",
       "814                             1.0             61.0   \n",
       "843                             2.0             70.0   \n",
       "885                             1.0            266.0   \n",
       "926                             1.0            104.0   \n",
       "986                             1.0            259.0   \n",
       "\n",
       "                                           house_rules  license  \n",
       "779  - Weekly and monthly prices are much lower - P...      NaN  \n",
       "785  We live and let live - hoping that you'd be re...      NaN  \n",
       "799  Expect respect for the family and the space--t...      NaN  \n",
       "814  Please keep it clean, thats all we really ask ...      NaN  \n",
       "843                                                NaN      NaN  \n",
       "885  Pets are cool (just clean up after them!), smo...      NaN  \n",
       "926                                                NaN      NaN  \n",
       "986                                 No Smoking No Pets      NaN  \n",
       "\n",
       "[8 rows x 24 columns]"
      ]
     },
     "execution_count": 20,
     "metadata": {},
     "output_type": "execute_result"
    }
   ],
   "source": [
    "Airbnb_data[Airbnb_data['long'].isna()]"
   ]
  },
  {
   "cell_type": "code",
   "execution_count": 21,
   "id": "a5c33828",
   "metadata": {},
   "outputs": [
    {
     "data": {
      "text/html": [
       "<div>\n",
       "<style scoped>\n",
       "    .dataframe tbody tr th:only-of-type {\n",
       "        vertical-align: middle;\n",
       "    }\n",
       "\n",
       "    .dataframe tbody tr th {\n",
       "        vertical-align: top;\n",
       "    }\n",
       "\n",
       "    .dataframe thead th {\n",
       "        text-align: right;\n",
       "    }\n",
       "</style>\n",
       "<table border=\"1\" class=\"dataframe\">\n",
       "  <thead>\n",
       "    <tr style=\"text-align: right;\">\n",
       "      <th></th>\n",
       "      <th>id</th>\n",
       "      <th>name</th>\n",
       "      <th>host id</th>\n",
       "      <th>host identity verified</th>\n",
       "      <th>host name</th>\n",
       "      <th>neighbourhood group</th>\n",
       "      <th>neighbourhood</th>\n",
       "      <th>lat</th>\n",
       "      <th>long</th>\n",
       "      <th>instant_bookable</th>\n",
       "      <th>...</th>\n",
       "      <th>service fee</th>\n",
       "      <th>minimum nights</th>\n",
       "      <th>number of reviews</th>\n",
       "      <th>last review</th>\n",
       "      <th>reviews per month</th>\n",
       "      <th>review rate number</th>\n",
       "      <th>calculated host listings count</th>\n",
       "      <th>availability 365</th>\n",
       "      <th>house_rules</th>\n",
       "      <th>license</th>\n",
       "    </tr>\n",
       "  </thead>\n",
       "  <tbody>\n",
       "    <tr>\n",
       "      <th>779</th>\n",
       "      <td>1431578</td>\n",
       "      <td>Large, furnished room in a 2 bedroom!</td>\n",
       "      <td>20368956893</td>\n",
       "      <td>not verified</td>\n",
       "      <td>Gibson</td>\n",
       "      <td>Brooklyn</td>\n",
       "      <td>Crown Heights</td>\n",
       "      <td>NaN</td>\n",
       "      <td>NaN</td>\n",
       "      <td>False</td>\n",
       "      <td>...</td>\n",
       "      <td>$108</td>\n",
       "      <td>1.0</td>\n",
       "      <td>1.0</td>\n",
       "      <td>3/18/2017</td>\n",
       "      <td>0.04</td>\n",
       "      <td>2.0</td>\n",
       "      <td>1.0</td>\n",
       "      <td>41.0</td>\n",
       "      <td>- Weekly and monthly prices are much lower - P...</td>\n",
       "      <td>NaN</td>\n",
       "    </tr>\n",
       "    <tr>\n",
       "      <th>785</th>\n",
       "      <td>1434892</td>\n",
       "      <td>Authentic NY Charming Artist Loft</td>\n",
       "      <td>66486085219</td>\n",
       "      <td>not verified</td>\n",
       "      <td>Bailey</td>\n",
       "      <td>Brooklyn</td>\n",
       "      <td>Greenpoint</td>\n",
       "      <td>NaN</td>\n",
       "      <td>NaN</td>\n",
       "      <td>False</td>\n",
       "      <td>...</td>\n",
       "      <td>$212</td>\n",
       "      <td>5.0</td>\n",
       "      <td>14.0</td>\n",
       "      <td>6/19/2019</td>\n",
       "      <td>0.16</td>\n",
       "      <td>5.0</td>\n",
       "      <td>1.0</td>\n",
       "      <td>226.0</td>\n",
       "      <td>We live and let live - hoping that you'd be re...</td>\n",
       "      <td>NaN</td>\n",
       "    </tr>\n",
       "    <tr>\n",
       "      <th>799</th>\n",
       "      <td>1442624</td>\n",
       "      <td>Huge room with private balcony</td>\n",
       "      <td>69386945815</td>\n",
       "      <td>verified</td>\n",
       "      <td>Hunt</td>\n",
       "      <td>Manhattan</td>\n",
       "      <td>East Village</td>\n",
       "      <td>NaN</td>\n",
       "      <td>NaN</td>\n",
       "      <td>False</td>\n",
       "      <td>...</td>\n",
       "      <td>$101</td>\n",
       "      <td>6.0</td>\n",
       "      <td>1.0</td>\n",
       "      <td>5/6/2013</td>\n",
       "      <td>0.01</td>\n",
       "      <td>1.0</td>\n",
       "      <td>1.0</td>\n",
       "      <td>240.0</td>\n",
       "      <td>Expect respect for the family and the space--t...</td>\n",
       "      <td>NaN</td>\n",
       "    </tr>\n",
       "    <tr>\n",
       "      <th>814</th>\n",
       "      <td>1450908</td>\n",
       "      <td>Decorators 5-Star Flat West Village</td>\n",
       "      <td>33280739304</td>\n",
       "      <td>verified</td>\n",
       "      <td>Watson</td>\n",
       "      <td>Manhattan</td>\n",
       "      <td>West Village</td>\n",
       "      <td>NaN</td>\n",
       "      <td>NaN</td>\n",
       "      <td>True</td>\n",
       "      <td>...</td>\n",
       "      <td>$76</td>\n",
       "      <td>20.0</td>\n",
       "      <td>157.0</td>\n",
       "      <td>8/11/2016</td>\n",
       "      <td>1.71</td>\n",
       "      <td>4.0</td>\n",
       "      <td>1.0</td>\n",
       "      <td>61.0</td>\n",
       "      <td>Please keep it clean, thats all we really ask ...</td>\n",
       "      <td>NaN</td>\n",
       "    </tr>\n",
       "    <tr>\n",
       "      <th>843</th>\n",
       "      <td>1466925</td>\n",
       "      <td>Nice Private Room Beauty in Queens</td>\n",
       "      <td>15305733205</td>\n",
       "      <td>verified</td>\n",
       "      <td>Roberts</td>\n",
       "      <td>Queens</td>\n",
       "      <td>Elmhurst</td>\n",
       "      <td>NaN</td>\n",
       "      <td>NaN</td>\n",
       "      <td>True</td>\n",
       "      <td>...</td>\n",
       "      <td>$45</td>\n",
       "      <td>1.0</td>\n",
       "      <td>63.0</td>\n",
       "      <td>5/18/2019</td>\n",
       "      <td>0.89</td>\n",
       "      <td>3.0</td>\n",
       "      <td>2.0</td>\n",
       "      <td>70.0</td>\n",
       "      <td>NaN</td>\n",
       "      <td>NaN</td>\n",
       "    </tr>\n",
       "    <tr>\n",
       "      <th>885</th>\n",
       "      <td>1490122</td>\n",
       "      <td>Cute Room in Historic Loft!</td>\n",
       "      <td>42267829819</td>\n",
       "      <td>not verified</td>\n",
       "      <td>Jones</td>\n",
       "      <td>Brooklyn</td>\n",
       "      <td>Greenpoint</td>\n",
       "      <td>NaN</td>\n",
       "      <td>NaN</td>\n",
       "      <td>True</td>\n",
       "      <td>...</td>\n",
       "      <td>$105</td>\n",
       "      <td>14.0</td>\n",
       "      <td>22.0</td>\n",
       "      <td>5/2/2019</td>\n",
       "      <td>0.25</td>\n",
       "      <td>1.0</td>\n",
       "      <td>1.0</td>\n",
       "      <td>266.0</td>\n",
       "      <td>Pets are cool (just clean up after them!), smo...</td>\n",
       "      <td>NaN</td>\n",
       "    </tr>\n",
       "    <tr>\n",
       "      <th>926</th>\n",
       "      <td>1512766</td>\n",
       "      <td>21 day Chelsea Apartment rental</td>\n",
       "      <td>10876728736</td>\n",
       "      <td>not verified</td>\n",
       "      <td>Owens</td>\n",
       "      <td>Manhattan</td>\n",
       "      <td>Flatiron District</td>\n",
       "      <td>NaN</td>\n",
       "      <td>NaN</td>\n",
       "      <td>False</td>\n",
       "      <td>...</td>\n",
       "      <td>$125</td>\n",
       "      <td>21.0</td>\n",
       "      <td>0.0</td>\n",
       "      <td>NaN</td>\n",
       "      <td>NaN</td>\n",
       "      <td>2.0</td>\n",
       "      <td>1.0</td>\n",
       "      <td>104.0</td>\n",
       "      <td>NaN</td>\n",
       "      <td>NaN</td>\n",
       "    </tr>\n",
       "    <tr>\n",
       "      <th>986</th>\n",
       "      <td>1545904</td>\n",
       "      <td>New York City for All Seasons!</td>\n",
       "      <td>26437872336</td>\n",
       "      <td>not verified</td>\n",
       "      <td>Douglas</td>\n",
       "      <td>Manhattan</td>\n",
       "      <td>Upper West Side</td>\n",
       "      <td>NaN</td>\n",
       "      <td>NaN</td>\n",
       "      <td>True</td>\n",
       "      <td>...</td>\n",
       "      <td>$83</td>\n",
       "      <td>1.0</td>\n",
       "      <td>25.0</td>\n",
       "      <td>6/22/2013</td>\n",
       "      <td>0.28</td>\n",
       "      <td>2.0</td>\n",
       "      <td>1.0</td>\n",
       "      <td>259.0</td>\n",
       "      <td>No Smoking No Pets</td>\n",
       "      <td>NaN</td>\n",
       "    </tr>\n",
       "  </tbody>\n",
       "</table>\n",
       "<p>8 rows × 24 columns</p>\n",
       "</div>"
      ],
      "text/plain": [
       "          id                                   name      host id  \\\n",
       "779  1431578  Large, furnished room in a 2 bedroom!  20368956893   \n",
       "785  1434892      Authentic NY Charming Artist Loft  66486085219   \n",
       "799  1442624         Huge room with private balcony  69386945815   \n",
       "814  1450908    Decorators 5-Star Flat West Village  33280739304   \n",
       "843  1466925     Nice Private Room Beauty in Queens  15305733205   \n",
       "885  1490122            Cute Room in Historic Loft!  42267829819   \n",
       "926  1512766        21 day Chelsea Apartment rental  10876728736   \n",
       "986  1545904         New York City for All Seasons!  26437872336   \n",
       "\n",
       "    host identity verified host name neighbourhood group      neighbourhood  \\\n",
       "779           not verified    Gibson            Brooklyn      Crown Heights   \n",
       "785           not verified    Bailey            Brooklyn         Greenpoint   \n",
       "799               verified      Hunt           Manhattan       East Village   \n",
       "814               verified    Watson           Manhattan       West Village   \n",
       "843               verified   Roberts              Queens           Elmhurst   \n",
       "885           not verified     Jones            Brooklyn         Greenpoint   \n",
       "926           not verified     Owens           Manhattan  Flatiron District   \n",
       "986           not verified   Douglas           Manhattan    Upper West Side   \n",
       "\n",
       "     lat  long instant_bookable  ... service fee minimum nights  \\\n",
       "779  NaN   NaN            False  ...       $108             1.0   \n",
       "785  NaN   NaN            False  ...       $212             5.0   \n",
       "799  NaN   NaN            False  ...       $101             6.0   \n",
       "814  NaN   NaN             True  ...        $76            20.0   \n",
       "843  NaN   NaN             True  ...        $45             1.0   \n",
       "885  NaN   NaN             True  ...       $105            14.0   \n",
       "926  NaN   NaN            False  ...       $125            21.0   \n",
       "986  NaN   NaN             True  ...        $83             1.0   \n",
       "\n",
       "     number of reviews last review reviews per month  review rate number  \\\n",
       "779                1.0   3/18/2017              0.04                 2.0   \n",
       "785               14.0   6/19/2019              0.16                 5.0   \n",
       "799                1.0    5/6/2013              0.01                 1.0   \n",
       "814              157.0   8/11/2016              1.71                 4.0   \n",
       "843               63.0   5/18/2019              0.89                 3.0   \n",
       "885               22.0    5/2/2019              0.25                 1.0   \n",
       "926                0.0         NaN               NaN                 2.0   \n",
       "986               25.0   6/22/2013              0.28                 2.0   \n",
       "\n",
       "     calculated host listings count availability 365  \\\n",
       "779                             1.0             41.0   \n",
       "785                             1.0            226.0   \n",
       "799                             1.0            240.0   \n",
       "814                             1.0             61.0   \n",
       "843                             2.0             70.0   \n",
       "885                             1.0            266.0   \n",
       "926                             1.0            104.0   \n",
       "986                             1.0            259.0   \n",
       "\n",
       "                                           house_rules  license  \n",
       "779  - Weekly and monthly prices are much lower - P...      NaN  \n",
       "785  We live and let live - hoping that you'd be re...      NaN  \n",
       "799  Expect respect for the family and the space--t...      NaN  \n",
       "814  Please keep it clean, thats all we really ask ...      NaN  \n",
       "843                                                NaN      NaN  \n",
       "885  Pets are cool (just clean up after them!), smo...      NaN  \n",
       "926                                                NaN      NaN  \n",
       "986                                 No Smoking No Pets      NaN  \n",
       "\n",
       "[8 rows x 24 columns]"
      ]
     },
     "execution_count": 21,
     "metadata": {},
     "output_type": "execute_result"
    }
   ],
   "source": [
    "Airbnb_data[Airbnb_data['lat'].isna()]"
   ]
  },
  {
   "cell_type": "markdown",
   "id": "1b12a870",
   "metadata": {},
   "source": [
    "The longitude and latitude are missing for 8 Airbnb's, in all 8 cases they are missing for both. For the rest, it looks like all values are decent, but this is not fixable for us, so these will be removed."
   ]
  },
  {
   "cell_type": "code",
   "execution_count": 22,
   "id": "c119ee49",
   "metadata": {},
   "outputs": [],
   "source": [
    "Airbnb_data = Airbnb_data[Airbnb_data['long'].notna()]"
   ]
  },
  {
   "cell_type": "code",
   "execution_count": 23,
   "id": "806567bc",
   "metadata": {},
   "outputs": [
    {
     "data": {
      "image/png": "[encoded data removed]",
      "text/plain": [
       "<Figure size 432x288 with 1 Axes>"
      ]
     },
     "metadata": {
      "needs_background": "light"
     },
     "output_type": "display_data"
    }
   ],
   "source": [
    "plt.scatter(x='lat', y='long', s=0.01, data=Airbnb_data);"
   ]
  },
  {
   "cell_type": "markdown",
   "id": "05f135a4",
   "metadata": {},
   "source": [
    "There don't appear to be strange outliers in this image, so my guess is that the longitude and latitude values are correct."
   ]
  },
  {
   "cell_type": "markdown",
   "id": "2a04b026",
   "metadata": {},
   "source": [
    "#### Instant bookable"
   ]
  },
  {
   "cell_type": "markdown",
   "id": "33feeded",
   "metadata": {},
   "source": [
    "Instant bookable is a boolean, whether the room is free at this time. If this value is missing, replace it with 'Unknown'."
   ]
  },
  {
   "cell_type": "code",
   "execution_count": 24,
   "id": "64fe46b1",
   "metadata": {},
   "outputs": [
    {
     "name": "stderr",
     "output_type": "stream",
     "text": [
      "C:\\Users\\20194027\\AppData\\Local\\Temp/ipykernel_6056/2903284214.py:1: SettingWithCopyWarning: \n",
      "A value is trying to be set on a copy of a slice from a DataFrame\n",
      "\n",
      "See the caveats in the documentation: https://pandas.pydata.org/pandas-docs/stable/user_guide/indexing.html#returning-a-view-versus-a-copy\n",
      "  Airbnb_data.rename(columns = {'instant_bookable': 'instant bookable'}, inplace=True)\n"
     ]
    }
   ],
   "source": [
    "Airbnb_data.rename(columns = {'instant_bookable': 'instant bookable'}, inplace=True)"
   ]
  },
  {
   "cell_type": "code",
   "execution_count": 25,
   "id": "3f9217b4",
   "metadata": {},
   "outputs": [
    {
     "name": "stderr",
     "output_type": "stream",
     "text": [
      "C:\\Users\\20194027\\AppData\\Local\\Temp/ipykernel_6056/4190922403.py:1: SettingWithCopyWarning: \n",
      "A value is trying to be set on a copy of a slice from a DataFrame\n",
      "\n",
      "See the caveats in the documentation: https://pandas.pydata.org/pandas-docs/stable/user_guide/indexing.html#returning-a-view-versus-a-copy\n",
      "  Airbnb_data['instant bookable'].fillna('Unknown', inplace=True)\n"
     ]
    }
   ],
   "source": [
    "Airbnb_data['instant bookable'].fillna('Unknown', inplace=True)"
   ]
  },
  {
   "cell_type": "markdown",
   "id": "aaf91461",
   "metadata": {},
   "source": [
    "#### cancellation policy"
   ]
  },
  {
   "cell_type": "markdown",
   "id": "65f19df2",
   "metadata": {},
   "source": [
    "Cancellation policy shows how strict the host is when the guest wants to cancel their reservation. In the dictionary, this variable isn't given, so I don't know what influences the strictness level given to the Airbnb's. For now, change nan to Unknown (again)."
   ]
  },
  {
   "cell_type": "code",
   "execution_count": 26,
   "id": "bc418073",
   "metadata": {},
   "outputs": [
    {
     "name": "stderr",
     "output_type": "stream",
     "text": [
      "C:\\Users\\20194027\\AppData\\Local\\Temp/ipykernel_6056/414142879.py:1: SettingWithCopyWarning: \n",
      "A value is trying to be set on a copy of a slice from a DataFrame\n",
      "\n",
      "See the caveats in the documentation: https://pandas.pydata.org/pandas-docs/stable/user_guide/indexing.html#returning-a-view-versus-a-copy\n",
      "  Airbnb_data.rename(columns = {'cancellation_policy': 'cancellation policy'}, inplace=True)\n"
     ]
    }
   ],
   "source": [
    "Airbnb_data.rename(columns = {'cancellation_policy': 'cancellation policy'}, inplace=True)"
   ]
  },
  {
   "cell_type": "code",
   "execution_count": 27,
   "id": "adfa6dcc",
   "metadata": {},
   "outputs": [
    {
     "data": {
      "text/plain": [
       "array(['strict', 'moderate', 'flexible', nan], dtype=object)"
      ]
     },
     "execution_count": 27,
     "metadata": {},
     "output_type": "execute_result"
    }
   ],
   "source": [
    "Airbnb_data['cancellation policy'].unique()"
   ]
  },
  {
   "cell_type": "code",
   "execution_count": 28,
   "id": "678a49a2",
   "metadata": {},
   "outputs": [
    {
     "name": "stderr",
     "output_type": "stream",
     "text": [
      "C:\\Users\\20194027\\AppData\\Local\\Temp/ipykernel_6056/2600554664.py:1: SettingWithCopyWarning: \n",
      "A value is trying to be set on a copy of a slice from a DataFrame\n",
      "\n",
      "See the caveats in the documentation: https://pandas.pydata.org/pandas-docs/stable/user_guide/indexing.html#returning-a-view-versus-a-copy\n",
      "  Airbnb_data['cancellation policy'].fillna('unknown', inplace=True)\n"
     ]
    }
   ],
   "source": [
    "Airbnb_data['cancellation policy'].fillna('unknown', inplace=True)"
   ]
  },
  {
   "cell_type": "markdown",
   "id": "620fee03",
   "metadata": {},
   "source": [
    "#### room type"
   ]
  },
  {
   "cell_type": "markdown",
   "id": "44be1521",
   "metadata": {},
   "source": [
    "Room type describes what kind of home the Airbnb is. All rows have a clear value, so nothing has to be done."
   ]
  },
  {
   "cell_type": "code",
   "execution_count": 29,
   "id": "8cd74aec",
   "metadata": {},
   "outputs": [
    {
     "data": {
      "text/plain": [
       "array(['Private room', 'Entire home/apt', 'Shared room', 'Hotel room'],\n",
       "      dtype=object)"
      ]
     },
     "execution_count": 29,
     "metadata": {},
     "output_type": "execute_result"
    }
   ],
   "source": [
    "Airbnb_data['room type'].unique()"
   ]
  },
  {
   "cell_type": "markdown",
   "id": "cd7eb18b",
   "metadata": {},
   "source": [
    "#### construction year"
   ]
  },
  {
   "cell_type": "markdown",
   "id": "68c201fe",
   "metadata": {},
   "source": [
    "Construction year is not in the dict. I think the year the Airbnb was added on Airbnb, since the lowest value is 2004. filling nan will result in the values becoming 2020.0 for example, and turning into an int will not work if nan is filled, so need to look at this."
   ]
  },
  {
   "cell_type": "code",
   "execution_count": 30,
   "id": "848b8106",
   "metadata": {},
   "outputs": [
    {
     "name": "stderr",
     "output_type": "stream",
     "text": [
      "C:\\Users\\20194027\\AppData\\Local\\Temp/ipykernel_6056/3631912237.py:1: SettingWithCopyWarning: \n",
      "A value is trying to be set on a copy of a slice from a DataFrame\n",
      "\n",
      "See the caveats in the documentation: https://pandas.pydata.org/pandas-docs/stable/user_guide/indexing.html#returning-a-view-versus-a-copy\n",
      "  Airbnb_data.rename(columns = {'Construction year': 'construction year'}, inplace=True)\n"
     ]
    }
   ],
   "source": [
    "Airbnb_data.rename(columns = {'Construction year': 'construction year'}, inplace=True)"
   ]
  },
  {
   "cell_type": "code",
   "execution_count": 31,
   "id": "c9f5fe8f",
   "metadata": {},
   "outputs": [
    {
     "data": {
      "text/plain": [
       "array([2020., 2007., 2005., 2009., 2013., 2015., 2004., 2008., 2010.,\n",
       "       2019., 2018., 2006., 2016., 2017., 2021., 2003., 2011., 2012.,\n",
       "       2022., 2014.,   nan])"
      ]
     },
     "execution_count": 31,
     "metadata": {},
     "output_type": "execute_result"
    }
   ],
   "source": [
    "Airbnb_data['construction year'].unique()"
   ]
  },
  {
   "cell_type": "markdown",
   "id": "e06bf93e",
   "metadata": {},
   "source": [
    "#### Price"
   ]
  },
  {
   "cell_type": "markdown",
   "id": "dc8cfcdc",
   "metadata": {},
   "source": [
    "Another tricky one. The Airbnb's with no price are gonna give problems when filtering on price, and not showing the price when somebody hovers over an Airbnb feels wrong. Drop them? Should discuss this."
   ]
  },
  {
   "cell_type": "code",
   "execution_count": 34,
   "id": "04c55af6",
   "metadata": {},
   "outputs": [
    {
     "data": {
      "text/html": [
       "<div>\n",
       "<style scoped>\n",
       "    .dataframe tbody tr th:only-of-type {\n",
       "        vertical-align: middle;\n",
       "    }\n",
       "\n",
       "    .dataframe tbody tr th {\n",
       "        vertical-align: top;\n",
       "    }\n",
       "\n",
       "    .dataframe thead th {\n",
       "        text-align: right;\n",
       "    }\n",
       "</style>\n",
       "<table border=\"1\" class=\"dataframe\">\n",
       "  <thead>\n",
       "    <tr style=\"text-align: right;\">\n",
       "      <th></th>\n",
       "      <th>id</th>\n",
       "      <th>name</th>\n",
       "      <th>host id</th>\n",
       "      <th>host identity verified</th>\n",
       "      <th>host name</th>\n",
       "      <th>neighbourhood group</th>\n",
       "      <th>neighbourhood</th>\n",
       "      <th>lat</th>\n",
       "      <th>long</th>\n",
       "      <th>instant bookable</th>\n",
       "      <th>...</th>\n",
       "      <th>service fee</th>\n",
       "      <th>minimum nights</th>\n",
       "      <th>number of reviews</th>\n",
       "      <th>last review</th>\n",
       "      <th>reviews per month</th>\n",
       "      <th>review rate number</th>\n",
       "      <th>calculated host listings count</th>\n",
       "      <th>availability 365</th>\n",
       "      <th>house_rules</th>\n",
       "      <th>license</th>\n",
       "    </tr>\n",
       "  </thead>\n",
       "  <tbody>\n",
       "    <tr>\n",
       "      <th>147</th>\n",
       "      <td>1082524</td>\n",
       "      <td>Retreat in Williamsburg</td>\n",
       "      <td>22731046418</td>\n",
       "      <td>verified</td>\n",
       "      <td>Abraham</td>\n",
       "      <td>Brooklyn</td>\n",
       "      <td>Williamsburg</td>\n",
       "      <td>40.71492</td>\n",
       "      <td>-73.95935</td>\n",
       "      <td>True</td>\n",
       "      <td>...</td>\n",
       "      <td>$64</td>\n",
       "      <td>4.0</td>\n",
       "      <td>240.0</td>\n",
       "      <td>6/17/2019</td>\n",
       "      <td>2.19</td>\n",
       "      <td>3.0</td>\n",
       "      <td>1.0</td>\n",
       "      <td>337.0</td>\n",
       "      <td>Leave shoes by door No strong scents (perfumes...</td>\n",
       "      <td>NaN</td>\n",
       "    </tr>\n",
       "    <tr>\n",
       "      <th>148</th>\n",
       "      <td>1083076</td>\n",
       "      <td>NYC Zen</td>\n",
       "      <td>83696952551</td>\n",
       "      <td>verified</td>\n",
       "      <td>Amelia</td>\n",
       "      <td>NaN</td>\n",
       "      <td>East Village</td>\n",
       "      <td>40.72354</td>\n",
       "      <td>-73.98295</td>\n",
       "      <td>False</td>\n",
       "      <td>...</td>\n",
       "      <td>$119</td>\n",
       "      <td>3.0</td>\n",
       "      <td>30.0</td>\n",
       "      <td>6/17/2019</td>\n",
       "      <td>0.28</td>\n",
       "      <td>5.0</td>\n",
       "      <td>1.0</td>\n",
       "      <td>344.0</td>\n",
       "      <td>No Smoking No Pets No Parties</td>\n",
       "      <td>NaN</td>\n",
       "    </tr>\n",
       "    <tr>\n",
       "      <th>210</th>\n",
       "      <td>1117319</td>\n",
       "      <td>Private Garden Apt • New Renovation</td>\n",
       "      <td>760769897</td>\n",
       "      <td>unknown</td>\n",
       "      <td>Ryan</td>\n",
       "      <td>Brooklyn</td>\n",
       "      <td>Williamsburg</td>\n",
       "      <td>40.71625</td>\n",
       "      <td>-73.93845</td>\n",
       "      <td>True</td>\n",
       "      <td>...</td>\n",
       "      <td>$176</td>\n",
       "      <td>2.0</td>\n",
       "      <td>253.0</td>\n",
       "      <td>7/2/2019</td>\n",
       "      <td>3.04</td>\n",
       "      <td>3.0</td>\n",
       "      <td>1.0</td>\n",
       "      <td>124.0</td>\n",
       "      <td>Just general respect for the place and my neig...</td>\n",
       "      <td>NaN</td>\n",
       "    </tr>\n",
       "    <tr>\n",
       "      <th>211</th>\n",
       "      <td>1117871</td>\n",
       "      <td>Modern comfort in art infused landmark Brownstone</td>\n",
       "      <td>25801284480</td>\n",
       "      <td>unknown</td>\n",
       "      <td>Tiana</td>\n",
       "      <td>Brooklyn</td>\n",
       "      <td>Bedford-Stuyvesant</td>\n",
       "      <td>40.68290</td>\n",
       "      <td>-73.93549</td>\n",
       "      <td>True</td>\n",
       "      <td>...</td>\n",
       "      <td>$152</td>\n",
       "      <td>2.0</td>\n",
       "      <td>23.0</td>\n",
       "      <td>7/1/2019</td>\n",
       "      <td>0.22</td>\n",
       "      <td>5.0</td>\n",
       "      <td>1.0</td>\n",
       "      <td>137.0</td>\n",
       "      <td>Enjoy your stay, and please take care of the a...</td>\n",
       "      <td>NaN</td>\n",
       "    </tr>\n",
       "    <tr>\n",
       "      <th>212</th>\n",
       "      <td>1118424</td>\n",
       "      <td>NOHO/EAST VILLAGE, PRIVATE 1/2 BATH</td>\n",
       "      <td>62325020363</td>\n",
       "      <td>unknown</td>\n",
       "      <td>Perkins</td>\n",
       "      <td>Manhattan</td>\n",
       "      <td>NoHo</td>\n",
       "      <td>40.72773</td>\n",
       "      <td>-73.99134</td>\n",
       "      <td>True</td>\n",
       "      <td>...</td>\n",
       "      <td>$151</td>\n",
       "      <td>2.0</td>\n",
       "      <td>115.0</td>\n",
       "      <td>12/5/2018</td>\n",
       "      <td>1.17</td>\n",
       "      <td>2.0</td>\n",
       "      <td>1.0</td>\n",
       "      <td>192.0</td>\n",
       "      <td>SMOKING: Not allowed anywhere on the property!...</td>\n",
       "      <td>NaN</td>\n",
       "    </tr>\n",
       "    <tr>\n",
       "      <th>...</th>\n",
       "      <td>...</td>\n",
       "      <td>...</td>\n",
       "      <td>...</td>\n",
       "      <td>...</td>\n",
       "      <td>...</td>\n",
       "      <td>...</td>\n",
       "      <td>...</td>\n",
       "      <td>...</td>\n",
       "      <td>...</td>\n",
       "      <td>...</td>\n",
       "      <td>...</td>\n",
       "      <td>...</td>\n",
       "      <td>...</td>\n",
       "      <td>...</td>\n",
       "      <td>...</td>\n",
       "      <td>...</td>\n",
       "      <td>...</td>\n",
       "      <td>...</td>\n",
       "      <td>...</td>\n",
       "      <td>...</td>\n",
       "      <td>...</td>\n",
       "    </tr>\n",
       "    <tr>\n",
       "      <th>102046</th>\n",
       "      <td>57361342</td>\n",
       "      <td>Sunny budget friendly room in Bushwick</td>\n",
       "      <td>29964876857</td>\n",
       "      <td>verified</td>\n",
       "      <td>unknown</td>\n",
       "      <td>Brooklyn</td>\n",
       "      <td>Bushwick</td>\n",
       "      <td>40.69370</td>\n",
       "      <td>-73.91006</td>\n",
       "      <td>True</td>\n",
       "      <td>...</td>\n",
       "      <td>NaN</td>\n",
       "      <td>5.0</td>\n",
       "      <td>3.0</td>\n",
       "      <td>4/9/2018</td>\n",
       "      <td>0.11</td>\n",
       "      <td>1.0</td>\n",
       "      <td>1.0</td>\n",
       "      <td>0.0</td>\n",
       "      <td>Please be mindful that I live in the same buil...</td>\n",
       "      <td>NaN</td>\n",
       "    </tr>\n",
       "    <tr>\n",
       "      <th>102047</th>\n",
       "      <td>57361894</td>\n",
       "      <td>Cozy Apartment on Bedford Ave, Brooklyn</td>\n",
       "      <td>92852058426</td>\n",
       "      <td>not verified</td>\n",
       "      <td>unknown</td>\n",
       "      <td>Brooklyn</td>\n",
       "      <td>Williamsburg</td>\n",
       "      <td>40.71284</td>\n",
       "      <td>-73.96284</td>\n",
       "      <td>False</td>\n",
       "      <td>...</td>\n",
       "      <td>NaN</td>\n",
       "      <td>7.0</td>\n",
       "      <td>15.0</td>\n",
       "      <td>1/1/2018</td>\n",
       "      <td>0.55</td>\n",
       "      <td>4.0</td>\n",
       "      <td>1.0</td>\n",
       "      <td>0.0</td>\n",
       "      <td>NaN</td>\n",
       "      <td>NaN</td>\n",
       "    </tr>\n",
       "    <tr>\n",
       "      <th>102048</th>\n",
       "      <td>57362446</td>\n",
       "      <td>Your 1 bedroom home away from home!</td>\n",
       "      <td>95572379802</td>\n",
       "      <td>verified</td>\n",
       "      <td>unknown</td>\n",
       "      <td>Manhattan</td>\n",
       "      <td>Upper West Side</td>\n",
       "      <td>40.79563</td>\n",
       "      <td>-73.97634</td>\n",
       "      <td>True</td>\n",
       "      <td>...</td>\n",
       "      <td>NaN</td>\n",
       "      <td>3.0</td>\n",
       "      <td>38.0</td>\n",
       "      <td>6/10/2019</td>\n",
       "      <td>1.40</td>\n",
       "      <td>3.0</td>\n",
       "      <td>1.0</td>\n",
       "      <td>31.0</td>\n",
       "      <td>NaN</td>\n",
       "      <td>NaN</td>\n",
       "    </tr>\n",
       "    <tr>\n",
       "      <th>102049</th>\n",
       "      <td>57362999</td>\n",
       "      <td>MASTER Cozy Bedroom Queen size 2 blocks Timesq...</td>\n",
       "      <td>80154173698</td>\n",
       "      <td>verified</td>\n",
       "      <td>unknown</td>\n",
       "      <td>Manhattan</td>\n",
       "      <td>Hell's Kitchen</td>\n",
       "      <td>40.76125</td>\n",
       "      <td>-73.98945</td>\n",
       "      <td>True</td>\n",
       "      <td>...</td>\n",
       "      <td>NaN</td>\n",
       "      <td>1.0</td>\n",
       "      <td>81.0</td>\n",
       "      <td>3/5/2019</td>\n",
       "      <td>2.96</td>\n",
       "      <td>2.0</td>\n",
       "      <td>2.0</td>\n",
       "      <td>0.0</td>\n",
       "      <td>- I work at home and prefer to rent to folks w...</td>\n",
       "      <td>NaN</td>\n",
       "    </tr>\n",
       "    <tr>\n",
       "      <th>102050</th>\n",
       "      <td>57363551</td>\n",
       "      <td>Sunny Brownstone Studio in BedStuy Brooklyn</td>\n",
       "      <td>11145329848</td>\n",
       "      <td>not verified</td>\n",
       "      <td>Jamal</td>\n",
       "      <td>Brooklyn</td>\n",
       "      <td>Bedford-Stuyvesant</td>\n",
       "      <td>40.68221</td>\n",
       "      <td>-73.94618</td>\n",
       "      <td>False</td>\n",
       "      <td>...</td>\n",
       "      <td>NaN</td>\n",
       "      <td>2.0</td>\n",
       "      <td>104.0</td>\n",
       "      <td>6/12/2019</td>\n",
       "      <td>3.69</td>\n",
       "      <td>5.0</td>\n",
       "      <td>1.0</td>\n",
       "      <td>268.0</td>\n",
       "      <td>NaN</td>\n",
       "      <td>NaN</td>\n",
       "    </tr>\n",
       "  </tbody>\n",
       "</table>\n",
       "<p>247 rows × 24 columns</p>\n",
       "</div>"
      ],
      "text/plain": [
       "              id                                               name  \\\n",
       "147      1082524                            Retreat in Williamsburg   \n",
       "148      1083076                                            NYC Zen   \n",
       "210      1117319                Private Garden Apt • New Renovation   \n",
       "211      1117871  Modern comfort in art infused landmark Brownstone   \n",
       "212      1118424                NOHO/EAST VILLAGE, PRIVATE 1/2 BATH   \n",
       "...          ...                                                ...   \n",
       "102046  57361342             Sunny budget friendly room in Bushwick   \n",
       "102047  57361894            Cozy Apartment on Bedford Ave, Brooklyn   \n",
       "102048  57362446                Your 1 bedroom home away from home!   \n",
       "102049  57362999  MASTER Cozy Bedroom Queen size 2 blocks Timesq...   \n",
       "102050  57363551        Sunny Brownstone Studio in BedStuy Brooklyn   \n",
       "\n",
       "            host id host identity verified host name neighbourhood group  \\\n",
       "147     22731046418               verified   Abraham            Brooklyn   \n",
       "148     83696952551               verified    Amelia                 NaN   \n",
       "210       760769897                unknown      Ryan            Brooklyn   \n",
       "211     25801284480                unknown     Tiana            Brooklyn   \n",
       "212     62325020363                unknown   Perkins           Manhattan   \n",
       "...             ...                    ...       ...                 ...   \n",
       "102046  29964876857               verified   unknown            Brooklyn   \n",
       "102047  92852058426           not verified   unknown            Brooklyn   \n",
       "102048  95572379802               verified   unknown           Manhattan   \n",
       "102049  80154173698               verified   unknown           Manhattan   \n",
       "102050  11145329848           not verified     Jamal            Brooklyn   \n",
       "\n",
       "             neighbourhood       lat      long instant bookable  ...  \\\n",
       "147           Williamsburg  40.71492 -73.95935             True  ...   \n",
       "148           East Village  40.72354 -73.98295            False  ...   \n",
       "210           Williamsburg  40.71625 -73.93845             True  ...   \n",
       "211     Bedford-Stuyvesant  40.68290 -73.93549             True  ...   \n",
       "212                   NoHo  40.72773 -73.99134             True  ...   \n",
       "...                    ...       ...       ...              ...  ...   \n",
       "102046            Bushwick  40.69370 -73.91006             True  ...   \n",
       "102047        Williamsburg  40.71284 -73.96284            False  ...   \n",
       "102048     Upper West Side  40.79563 -73.97634             True  ...   \n",
       "102049      Hell's Kitchen  40.76125 -73.98945             True  ...   \n",
       "102050  Bedford-Stuyvesant  40.68221 -73.94618            False  ...   \n",
       "\n",
       "       service fee minimum nights  number of reviews last review  \\\n",
       "147           $64             4.0              240.0   6/17/2019   \n",
       "148          $119             3.0               30.0   6/17/2019   \n",
       "210          $176             2.0              253.0    7/2/2019   \n",
       "211          $152             2.0               23.0    7/1/2019   \n",
       "212          $151             2.0              115.0   12/5/2018   \n",
       "...            ...            ...                ...         ...   \n",
       "102046         NaN            5.0                3.0    4/9/2018   \n",
       "102047         NaN            7.0               15.0    1/1/2018   \n",
       "102048         NaN            3.0               38.0   6/10/2019   \n",
       "102049         NaN            1.0               81.0    3/5/2019   \n",
       "102050         NaN            2.0              104.0   6/12/2019   \n",
       "\n",
       "       reviews per month  review rate number  calculated host listings count  \\\n",
       "147                 2.19                 3.0                             1.0   \n",
       "148                 0.28                 5.0                             1.0   \n",
       "210                 3.04                 3.0                             1.0   \n",
       "211                 0.22                 5.0                             1.0   \n",
       "212                 1.17                 2.0                             1.0   \n",
       "...                  ...                 ...                             ...   \n",
       "102046              0.11                 1.0                             1.0   \n",
       "102047              0.55                 4.0                             1.0   \n",
       "102048              1.40                 3.0                             1.0   \n",
       "102049              2.96                 2.0                             2.0   \n",
       "102050              3.69                 5.0                             1.0   \n",
       "\n",
       "       availability 365                                        house_rules  \\\n",
       "147               337.0  Leave shoes by door No strong scents (perfumes...   \n",
       "148               344.0                      No Smoking No Pets No Parties   \n",
       "210               124.0  Just general respect for the place and my neig...   \n",
       "211               137.0  Enjoy your stay, and please take care of the a...   \n",
       "212               192.0  SMOKING: Not allowed anywhere on the property!...   \n",
       "...                 ...                                                ...   \n",
       "102046              0.0  Please be mindful that I live in the same buil...   \n",
       "102047              0.0                                                NaN   \n",
       "102048             31.0                                                NaN   \n",
       "102049              0.0  - I work at home and prefer to rent to folks w...   \n",
       "102050            268.0                                                NaN   \n",
       "\n",
       "        license  \n",
       "147         NaN  \n",
       "148         NaN  \n",
       "210         NaN  \n",
       "211         NaN  \n",
       "212         NaN  \n",
       "...         ...  \n",
       "102046      NaN  \n",
       "102047      NaN  \n",
       "102048      NaN  \n",
       "102049      NaN  \n",
       "102050      NaN  \n",
       "\n",
       "[247 rows x 24 columns]"
      ]
     },
     "execution_count": 34,
     "metadata": {},
     "output_type": "execute_result"
    }
   ],
   "source": [
    "Airbnb_data[Airbnb_data['price'].isna()]"
   ]
  },
  {
   "cell_type": "code",
   "execution_count": 49,
   "id": "40ce5e23",
   "metadata": {},
   "outputs": [
    {
     "name": "stderr",
     "output_type": "stream",
     "text": [
      "C:\\Users\\20194027\\AppData\\Local\\Temp/ipykernel_6056/815015863.py:1: FutureWarning: The default value of regex will change from True to False in a future version. In addition, single character regular expressions will *not* be treated as literal strings when regex=True.\n",
      "  Airbnb_data['price'] = Airbnb_data['price'].str.replace('$', '')\n",
      "C:\\Users\\20194027\\AppData\\Local\\Temp/ipykernel_6056/815015863.py:1: SettingWithCopyWarning: \n",
      "A value is trying to be set on a copy of a slice from a DataFrame.\n",
      "Try using .loc[row_indexer,col_indexer] = value instead\n",
      "\n",
      "See the caveats in the documentation: https://pandas.pydata.org/pandas-docs/stable/user_guide/indexing.html#returning-a-view-versus-a-copy\n",
      "  Airbnb_data['price'] = Airbnb_data['price'].str.replace('$', '')\n"
     ]
    }
   ],
   "source": [
    "Airbnb_data['price'] = Airbnb_data['price'].str.replace('$', '')\n"
   ]
  },
  {
   "cell_type": "code",
   "execution_count": 55,
   "id": "a084fb7a",
   "metadata": {},
   "outputs": [
    {
     "data": {
      "text/plain": [
       "0         966.0\n",
       "1         142.0\n",
       "2         620.0\n",
       "3         368.0\n",
       "4         204.0\n",
       "          ...  \n",
       "102053    696.0\n",
       "102054    909.0\n",
       "102055    387.0\n",
       "102056    848.0\n",
       "102057      NaN\n",
       "Name: price, Length: 102050, dtype: float64"
      ]
     },
     "execution_count": 55,
     "metadata": {},
     "output_type": "execute_result"
    }
   ],
   "source": [
    "pd.to_numeric(Airbnb_data['price'], errors='coerce')"
   ]
  },
  {
   "cell_type": "markdown",
   "id": "1f2fbed2",
   "metadata": {},
   "source": [
    "#### service fee"
   ]
  },
  {
   "cell_type": "markdown",
   "id": "121447d0",
   "metadata": {},
   "source": [
    "Service fee is a fee on top of the price, no explanation in dict. same things as for price."
   ]
  },
  {
   "cell_type": "code",
   "execution_count": 60,
   "id": "accca216",
   "metadata": {},
   "outputs": [
    {
     "name": "stderr",
     "output_type": "stream",
     "text": [
      "C:\\Users\\20194027\\AppData\\Local\\Temp/ipykernel_6056/3940617351.py:1: FutureWarning: The default value of regex will change from True to False in a future version. In addition, single character regular expressions will *not* be treated as literal strings when regex=True.\n",
      "  Airbnb_data['service fee'] = Airbnb_data['service fee'].str.replace('$', '')\n",
      "C:\\Users\\20194027\\AppData\\Local\\Temp/ipykernel_6056/3940617351.py:1: SettingWithCopyWarning: \n",
      "A value is trying to be set on a copy of a slice from a DataFrame.\n",
      "Try using .loc[row_indexer,col_indexer] = value instead\n",
      "\n",
      "See the caveats in the documentation: https://pandas.pydata.org/pandas-docs/stable/user_guide/indexing.html#returning-a-view-versus-a-copy\n",
      "  Airbnb_data['service fee'] = Airbnb_data['service fee'].str.replace('$', '')\n"
     ]
    },
    {
     "data": {
      "text/plain": [
       "0         193.0\n",
       "1          28.0\n",
       "2         124.0\n",
       "3          74.0\n",
       "4          41.0\n",
       "          ...  \n",
       "102053      NaN\n",
       "102054      NaN\n",
       "102055      NaN\n",
       "102056      NaN\n",
       "102057      NaN\n",
       "Name: service fee, Length: 102050, dtype: float64"
      ]
     },
     "execution_count": 60,
     "metadata": {},
     "output_type": "execute_result"
    }
   ],
   "source": [
    "Airbnb_data['service fee'] = Airbnb_data['service fee'].str.replace('$', '')\n",
    "pd.to_numeric(Airbnb_data['service fee'], errors='coerce')"
   ]
  },
  {
   "cell_type": "markdown",
   "id": "3cfdb726",
   "metadata": {},
   "source": [
    "#### minimum nights"
   ]
  },
  {
   "cell_type": "markdown",
   "id": "aab65b22",
   "metadata": {},
   "source": [
    "The minimum amount of noghts you need to book. NaN is not the biggest deal, but should be fixed. change to unknown again?"
   ]
  },
  {
   "cell_type": "code",
   "execution_count": 63,
   "id": "15102951",
   "metadata": {},
   "outputs": [
    {
     "data": {
      "text/html": [
       "<div>\n",
       "<style scoped>\n",
       "    .dataframe tbody tr th:only-of-type {\n",
       "        vertical-align: middle;\n",
       "    }\n",
       "\n",
       "    .dataframe tbody tr th {\n",
       "        vertical-align: top;\n",
       "    }\n",
       "\n",
       "    .dataframe thead th {\n",
       "        text-align: right;\n",
       "    }\n",
       "</style>\n",
       "<table border=\"1\" class=\"dataframe\">\n",
       "  <thead>\n",
       "    <tr style=\"text-align: right;\">\n",
       "      <th></th>\n",
       "      <th>id</th>\n",
       "      <th>name</th>\n",
       "      <th>host id</th>\n",
       "      <th>host identity verified</th>\n",
       "      <th>host name</th>\n",
       "      <th>neighbourhood group</th>\n",
       "      <th>neighbourhood</th>\n",
       "      <th>lat</th>\n",
       "      <th>long</th>\n",
       "      <th>instant bookable</th>\n",
       "      <th>...</th>\n",
       "      <th>service fee</th>\n",
       "      <th>minimum nights</th>\n",
       "      <th>number of reviews</th>\n",
       "      <th>last review</th>\n",
       "      <th>reviews per month</th>\n",
       "      <th>review rate number</th>\n",
       "      <th>calculated host listings count</th>\n",
       "      <th>availability 365</th>\n",
       "      <th>house_rules</th>\n",
       "      <th>license</th>\n",
       "    </tr>\n",
       "  </thead>\n",
       "  <tbody>\n",
       "    <tr>\n",
       "      <th>46</th>\n",
       "      <td>1026742</td>\n",
       "      <td>Entire apartment in central Brooklyn neighborh...</td>\n",
       "      <td>41615406010</td>\n",
       "      <td>unknown</td>\n",
       "      <td>David</td>\n",
       "      <td>Brooklyn</td>\n",
       "      <td>Prospect-Lefferts Gardens</td>\n",
       "      <td>40.65944</td>\n",
       "      <td>-73.96238</td>\n",
       "      <td>False</td>\n",
       "      <td>...</td>\n",
       "      <td>87</td>\n",
       "      <td>NaN</td>\n",
       "      <td>11.0</td>\n",
       "      <td>6/5/2019</td>\n",
       "      <td>0.49</td>\n",
       "      <td>NaN</td>\n",
       "      <td>1.0</td>\n",
       "      <td>353.0</td>\n",
       "      <td>NaN</td>\n",
       "      <td>NaN</td>\n",
       "    </tr>\n",
       "    <tr>\n",
       "      <th>47</th>\n",
       "      <td>1027294</td>\n",
       "      <td>1 Stop fr. Manhattan! Private Suite,Landmark B...</td>\n",
       "      <td>81253735818</td>\n",
       "      <td>not verified</td>\n",
       "      <td>Victoria</td>\n",
       "      <td>Queens</td>\n",
       "      <td>Long Island City</td>\n",
       "      <td>40.74771</td>\n",
       "      <td>-73.94740</td>\n",
       "      <td>True</td>\n",
       "      <td>...</td>\n",
       "      <td>183</td>\n",
       "      <td>NaN</td>\n",
       "      <td>248.0</td>\n",
       "      <td>7/1/2019</td>\n",
       "      <td>2.25</td>\n",
       "      <td>NaN</td>\n",
       "      <td>1.0</td>\n",
       "      <td>26.0</td>\n",
       "      <td>The room is strictly non-smoking, however, you...</td>\n",
       "      <td>NaN</td>\n",
       "    </tr>\n",
       "    <tr>\n",
       "      <th>48</th>\n",
       "      <td>1027846</td>\n",
       "      <td>Charming Brownstone 3 - Near PRATT</td>\n",
       "      <td>42134614458</td>\n",
       "      <td>verified</td>\n",
       "      <td>Jared</td>\n",
       "      <td>Brooklyn</td>\n",
       "      <td>Bedford-Stuyvesant</td>\n",
       "      <td>40.68111</td>\n",
       "      <td>-73.95591</td>\n",
       "      <td>True</td>\n",
       "      <td>...</td>\n",
       "      <td>92</td>\n",
       "      <td>NaN</td>\n",
       "      <td>61.0</td>\n",
       "      <td>5/25/2019</td>\n",
       "      <td>0.52</td>\n",
       "      <td>NaN</td>\n",
       "      <td>1.0</td>\n",
       "      <td>32.0</td>\n",
       "      <td>No smoking, please. No drugs or guns allowed. ...</td>\n",
       "      <td>NaN</td>\n",
       "    </tr>\n",
       "    <tr>\n",
       "      <th>49</th>\n",
       "      <td>1028399</td>\n",
       "      <td>bright and stylish duplex</td>\n",
       "      <td>53466382920</td>\n",
       "      <td>verified</td>\n",
       "      <td>Chloe</td>\n",
       "      <td>Brooklyn</td>\n",
       "      <td>Bedford-Stuyvesant</td>\n",
       "      <td>40.68554</td>\n",
       "      <td>-73.94090</td>\n",
       "      <td>False</td>\n",
       "      <td>...</td>\n",
       "      <td>73</td>\n",
       "      <td>NaN</td>\n",
       "      <td>11.0</td>\n",
       "      <td>1/1/2017</td>\n",
       "      <td>0.10</td>\n",
       "      <td>1.0</td>\n",
       "      <td>1.0</td>\n",
       "      <td>85.0</td>\n",
       "      <td>No smoking. No pet. No shoes in the house. Vis...</td>\n",
       "      <td>NaN</td>\n",
       "    </tr>\n",
       "    <tr>\n",
       "      <th>50</th>\n",
       "      <td>1028951</td>\n",
       "      <td>Fort Greene brownstone</td>\n",
       "      <td>49393946881</td>\n",
       "      <td>not verified</td>\n",
       "      <td>Abraham</td>\n",
       "      <td>Brooklyn</td>\n",
       "      <td>Fort Greene</td>\n",
       "      <td>40.69142</td>\n",
       "      <td>-73.97376</td>\n",
       "      <td>True</td>\n",
       "      <td>...</td>\n",
       "      <td>42</td>\n",
       "      <td>NaN</td>\n",
       "      <td>135.0</td>\n",
       "      <td>6/17/2019</td>\n",
       "      <td>1.16</td>\n",
       "      <td>1.0</td>\n",
       "      <td>2.0</td>\n",
       "      <td>NaN</td>\n",
       "      <td>We limit number of guests not staying, so plea...</td>\n",
       "      <td>NaN</td>\n",
       "    </tr>\n",
       "    <tr>\n",
       "      <th>...</th>\n",
       "      <td>...</td>\n",
       "      <td>...</td>\n",
       "      <td>...</td>\n",
       "      <td>...</td>\n",
       "      <td>...</td>\n",
       "      <td>...</td>\n",
       "      <td>...</td>\n",
       "      <td>...</td>\n",
       "      <td>...</td>\n",
       "      <td>...</td>\n",
       "      <td>...</td>\n",
       "      <td>...</td>\n",
       "      <td>...</td>\n",
       "      <td>...</td>\n",
       "      <td>...</td>\n",
       "      <td>...</td>\n",
       "      <td>...</td>\n",
       "      <td>...</td>\n",
       "      <td>...</td>\n",
       "      <td>...</td>\n",
       "      <td>...</td>\n",
       "    </tr>\n",
       "    <tr>\n",
       "      <th>98319</th>\n",
       "      <td>55302920</td>\n",
       "      <td>Beautiful apartment in Greenpoint</td>\n",
       "      <td>17529544376</td>\n",
       "      <td>verified</td>\n",
       "      <td>Emilie</td>\n",
       "      <td>Brooklyn</td>\n",
       "      <td>Greenpoint</td>\n",
       "      <td>40.72113</td>\n",
       "      <td>-73.95279</td>\n",
       "      <td>False</td>\n",
       "      <td>...</td>\n",
       "      <td>94</td>\n",
       "      <td>NaN</td>\n",
       "      <td>1.0</td>\n",
       "      <td>8/29/2018</td>\n",
       "      <td>0.10</td>\n",
       "      <td>4.0</td>\n",
       "      <td>1.0</td>\n",
       "      <td>0.0</td>\n",
       "      <td>Please respect all personal property/possessio...</td>\n",
       "      <td>NaN</td>\n",
       "    </tr>\n",
       "    <tr>\n",
       "      <th>98320</th>\n",
       "      <td>55303472</td>\n",
       "      <td>Cozy room in a three-bedroom House</td>\n",
       "      <td>38098289591</td>\n",
       "      <td>verified</td>\n",
       "      <td>Arthur</td>\n",
       "      <td>Queens</td>\n",
       "      <td>Woodhaven</td>\n",
       "      <td>40.69139</td>\n",
       "      <td>-73.86086</td>\n",
       "      <td>True</td>\n",
       "      <td>...</td>\n",
       "      <td>204</td>\n",
       "      <td>NaN</td>\n",
       "      <td>4.0</td>\n",
       "      <td>10/8/2018</td>\n",
       "      <td>0.41</td>\n",
       "      <td>4.0</td>\n",
       "      <td>2.0</td>\n",
       "      <td>180.0</td>\n",
       "      <td>We expect guests to be mindful of the neighbor...</td>\n",
       "      <td>NaN</td>\n",
       "    </tr>\n",
       "    <tr>\n",
       "      <th>98321</th>\n",
       "      <td>55304024</td>\n",
       "      <td>Cozy Studio Near ESB</td>\n",
       "      <td>96734324844</td>\n",
       "      <td>not verified</td>\n",
       "      <td>Studioplus</td>\n",
       "      <td>Manhattan</td>\n",
       "      <td>Midtown</td>\n",
       "      <td>40.74769</td>\n",
       "      <td>-73.98850</td>\n",
       "      <td>False</td>\n",
       "      <td>...</td>\n",
       "      <td>58</td>\n",
       "      <td>NaN</td>\n",
       "      <td>13.0</td>\n",
       "      <td>6/18/2019</td>\n",
       "      <td>1.38</td>\n",
       "      <td>3.0</td>\n",
       "      <td>13.0</td>\n",
       "      <td>358.0</td>\n",
       "      <td>NaN</td>\n",
       "      <td>NaN</td>\n",
       "    </tr>\n",
       "    <tr>\n",
       "      <th>98322</th>\n",
       "      <td>55304577</td>\n",
       "      <td>SUNNY PRIVATE BEDROOM IN WILLIAMSBURG, BROOKLYN!</td>\n",
       "      <td>86773878637</td>\n",
       "      <td>not verified</td>\n",
       "      <td>Tony</td>\n",
       "      <td>Brooklyn</td>\n",
       "      <td>Williamsburg</td>\n",
       "      <td>40.71216</td>\n",
       "      <td>-73.95968</td>\n",
       "      <td>True</td>\n",
       "      <td>...</td>\n",
       "      <td>108</td>\n",
       "      <td>NaN</td>\n",
       "      <td>3.0</td>\n",
       "      <td>5/28/2019</td>\n",
       "      <td>0.30</td>\n",
       "      <td>2.0</td>\n",
       "      <td>1.0</td>\n",
       "      <td>29.0</td>\n",
       "      <td>I expect guests to treat my home as if it were...</td>\n",
       "      <td>NaN</td>\n",
       "    </tr>\n",
       "    <tr>\n",
       "      <th>98323</th>\n",
       "      <td>55305129</td>\n",
       "      <td>Bright Room, Vibrant Area, 2 Blocks From Train</td>\n",
       "      <td>64310585151</td>\n",
       "      <td>not verified</td>\n",
       "      <td>Chris</td>\n",
       "      <td>Brooklyn</td>\n",
       "      <td>Bushwick</td>\n",
       "      <td>40.70028</td>\n",
       "      <td>-73.93928</td>\n",
       "      <td>False</td>\n",
       "      <td>...</td>\n",
       "      <td>118</td>\n",
       "      <td>NaN</td>\n",
       "      <td>18.0</td>\n",
       "      <td>7/2/2019</td>\n",
       "      <td>1.80</td>\n",
       "      <td>2.0</td>\n",
       "      <td>2.0</td>\n",
       "      <td>266.0</td>\n",
       "      <td>NaN</td>\n",
       "      <td>NaN</td>\n",
       "    </tr>\n",
       "  </tbody>\n",
       "</table>\n",
       "<p>400 rows × 24 columns</p>\n",
       "</div>"
      ],
      "text/plain": [
       "             id                                               name  \\\n",
       "46      1026742  Entire apartment in central Brooklyn neighborh...   \n",
       "47      1027294  1 Stop fr. Manhattan! Private Suite,Landmark B...   \n",
       "48      1027846                 Charming Brownstone 3 - Near PRATT   \n",
       "49      1028399                          bright and stylish duplex   \n",
       "50      1028951                             Fort Greene brownstone   \n",
       "...         ...                                                ...   \n",
       "98319  55302920                  Beautiful apartment in Greenpoint   \n",
       "98320  55303472                 Cozy room in a three-bedroom House   \n",
       "98321  55304024                               Cozy Studio Near ESB   \n",
       "98322  55304577   SUNNY PRIVATE BEDROOM IN WILLIAMSBURG, BROOKLYN!   \n",
       "98323  55305129     Bright Room, Vibrant Area, 2 Blocks From Train   \n",
       "\n",
       "           host id host identity verified   host name neighbourhood group  \\\n",
       "46     41615406010                unknown       David            Brooklyn   \n",
       "47     81253735818           not verified    Victoria              Queens   \n",
       "48     42134614458               verified       Jared            Brooklyn   \n",
       "49     53466382920               verified       Chloe            Brooklyn   \n",
       "50     49393946881           not verified     Abraham            Brooklyn   \n",
       "...            ...                    ...         ...                 ...   \n",
       "98319  17529544376               verified      Emilie            Brooklyn   \n",
       "98320  38098289591               verified      Arthur              Queens   \n",
       "98321  96734324844           not verified  Studioplus           Manhattan   \n",
       "98322  86773878637           not verified        Tony            Brooklyn   \n",
       "98323  64310585151           not verified       Chris            Brooklyn   \n",
       "\n",
       "                   neighbourhood       lat      long instant bookable  ...  \\\n",
       "46     Prospect-Lefferts Gardens  40.65944 -73.96238            False  ...   \n",
       "47              Long Island City  40.74771 -73.94740             True  ...   \n",
       "48            Bedford-Stuyvesant  40.68111 -73.95591             True  ...   \n",
       "49            Bedford-Stuyvesant  40.68554 -73.94090            False  ...   \n",
       "50                   Fort Greene  40.69142 -73.97376             True  ...   \n",
       "...                          ...       ...       ...              ...  ...   \n",
       "98319                 Greenpoint  40.72113 -73.95279            False  ...   \n",
       "98320                  Woodhaven  40.69139 -73.86086             True  ...   \n",
       "98321                    Midtown  40.74769 -73.98850            False  ...   \n",
       "98322               Williamsburg  40.71216 -73.95968             True  ...   \n",
       "98323                   Bushwick  40.70028 -73.93928            False  ...   \n",
       "\n",
       "      service fee minimum nights  number of reviews last review  \\\n",
       "46            87             NaN               11.0    6/5/2019   \n",
       "47           183             NaN              248.0    7/1/2019   \n",
       "48            92             NaN               61.0   5/25/2019   \n",
       "49            73             NaN               11.0    1/1/2017   \n",
       "50            42             NaN              135.0   6/17/2019   \n",
       "...           ...            ...                ...         ...   \n",
       "98319         94             NaN                1.0   8/29/2018   \n",
       "98320        204             NaN                4.0   10/8/2018   \n",
       "98321         58             NaN               13.0   6/18/2019   \n",
       "98322        108             NaN                3.0   5/28/2019   \n",
       "98323        118             NaN               18.0    7/2/2019   \n",
       "\n",
       "      reviews per month  review rate number  calculated host listings count  \\\n",
       "46                 0.49                 NaN                             1.0   \n",
       "47                 2.25                 NaN                             1.0   \n",
       "48                 0.52                 NaN                             1.0   \n",
       "49                 0.10                 1.0                             1.0   \n",
       "50                 1.16                 1.0                             2.0   \n",
       "...                 ...                 ...                             ...   \n",
       "98319              0.10                 4.0                             1.0   \n",
       "98320              0.41                 4.0                             2.0   \n",
       "98321              1.38                 3.0                            13.0   \n",
       "98322              0.30                 2.0                             1.0   \n",
       "98323              1.80                 2.0                             2.0   \n",
       "\n",
       "      availability 365                                        house_rules  \\\n",
       "46               353.0                                                NaN   \n",
       "47                26.0  The room is strictly non-smoking, however, you...   \n",
       "48                32.0  No smoking, please. No drugs or guns allowed. ...   \n",
       "49                85.0  No smoking. No pet. No shoes in the house. Vis...   \n",
       "50                 NaN  We limit number of guests not staying, so plea...   \n",
       "...                ...                                                ...   \n",
       "98319              0.0  Please respect all personal property/possessio...   \n",
       "98320            180.0  We expect guests to be mindful of the neighbor...   \n",
       "98321            358.0                                                NaN   \n",
       "98322             29.0  I expect guests to treat my home as if it were...   \n",
       "98323            266.0                                                NaN   \n",
       "\n",
       "       license  \n",
       "46         NaN  \n",
       "47         NaN  \n",
       "48         NaN  \n",
       "49         NaN  \n",
       "50         NaN  \n",
       "...        ...  \n",
       "98319      NaN  \n",
       "98320      NaN  \n",
       "98321      NaN  \n",
       "98322      NaN  \n",
       "98323      NaN  \n",
       "\n",
       "[400 rows x 24 columns]"
      ]
     },
     "execution_count": 63,
     "metadata": {},
     "output_type": "execute_result"
    }
   ],
   "source": [
    "Airbnb_data[Airbnb_data['minimum nights'].isna()]"
   ]
  },
  {
   "cell_type": "code",
   "execution_count": 68,
   "id": "30e6fcca",
   "metadata": {},
   "outputs": [
    {
     "data": {
      "text/plain": [
       "<seaborn.axisgrid.FacetGrid at 0x1468b564730>"
      ]
     },
     "execution_count": 68,
     "metadata": {},
     "output_type": "execute_result"
    },
    {
     "data": {
      "image/png": "[encoded data removed]",
      "text/plain": [
       "<Figure size 360x360 with 1 Axes>"
      ]
     },
     "metadata": {
      "needs_background": "light"
     },
     "output_type": "display_data"
    }
   ],
   "source": [
    "sns.displot(data = Airbnb_data, x = 'minimum nights', kind = 'kde')"
   ]
  },
  {
   "cell_type": "code",
   "execution_count": 73,
   "id": "c602b7a6",
   "metadata": {},
   "outputs": [
    {
     "data": {
      "text/plain": [
       "5645.0"
      ]
     },
     "execution_count": 73,
     "metadata": {},
     "output_type": "execute_result"
    }
   ],
   "source": [
    "Airbnb_data['minimum nights'].max()"
   ]
  },
  {
   "cell_type": "markdown",
   "id": "a9f7ebde",
   "metadata": {},
   "source": [
    "this can't be correct, so for now drop every value above 365 (maybe change to nan, discuss)"
   ]
  },
  {
   "cell_type": "code",
   "execution_count": 89,
   "id": "92ec929b",
   "metadata": {},
   "outputs": [],
   "source": [
    "Airbnb_data = Airbnb_data[Airbnb_data['minimum nights'] <= 365]"
   ]
  },
  {
   "cell_type": "markdown",
   "id": "7db3e14d",
   "metadata": {},
   "source": [
    "#### Nr of reviews"
   ]
  },
  {
   "cell_type": "markdown",
   "id": "0a1f87ee",
   "metadata": {},
   "source": [
    "First research more review info, if everything from reviews is missing from the same rows, it can all be changed to 'no reviews'. Otherwise it will become tricky."
   ]
  },
  {
   "cell_type": "code",
   "execution_count": 92,
   "id": "5d14292b",
   "metadata": {},
   "outputs": [
    {
     "data": {
      "text/plain": [
       "181"
      ]
     },
     "execution_count": 92,
     "metadata": {},
     "output_type": "execute_result"
    }
   ],
   "source": [
    "rev1 = Airbnb_data[Airbnb_data['number of reviews'].isna()]\n",
    "len(rev1)"
   ]
  },
  {
   "cell_type": "code",
   "execution_count": 93,
   "id": "318d9c96",
   "metadata": {},
   "outputs": [
    {
     "data": {
      "text/plain": [
       "123"
      ]
     },
     "execution_count": 93,
     "metadata": {},
     "output_type": "execute_result"
    }
   ],
   "source": [
    "rev2 = Airbnb_data[(Airbnb_data['number of reviews'].isna()) & (Airbnb_data['last review'].isna())]\n",
    "len(rev2)"
   ]
  },
  {
   "cell_type": "markdown",
   "id": "2b60a823",
   "metadata": {},
   "source": [
    "the cells above show that there are some cells where we don't know the amount of reviews, but there is at least one review"
   ]
  },
  {
   "cell_type": "code",
   "execution_count": 94,
   "id": "285cccdc",
   "metadata": {},
   "outputs": [
    {
     "data": {
      "text/plain": [
       "123"
      ]
     },
     "execution_count": 94,
     "metadata": {},
     "output_type": "execute_result"
    }
   ],
   "source": [
    "rev3 = Airbnb_data[(Airbnb_data['number of reviews'].isna()) & (Airbnb_data['reviews per month'].isna())]\n",
    "len(rev3)"
   ]
  },
  {
   "cell_type": "code",
   "execution_count": 95,
   "id": "23929aff",
   "metadata": {},
   "outputs": [
    {
     "data": {
      "text/plain": [
       "123"
      ]
     },
     "execution_count": 95,
     "metadata": {},
     "output_type": "execute_result"
    }
   ],
   "source": [
    "rev4 = Airbnb_data[(Airbnb_data['number of reviews'].isna()) & (Airbnb_data['reviews per month'].isna()) & (Airbnb_data['last review'].isna())]\n",
    "len(rev4)"
   ]
  },
  {
   "cell_type": "markdown",
   "id": "9f6cb3a3",
   "metadata": {},
   "source": [
    "This shows that the rows where last review has a value, also has a value for the reviews per month. We can make an estimation for the amount of reviews with the construction year, but this will be an estimation (and i can't be bothered at the moment)"
   ]
  },
  {
   "cell_type": "markdown",
   "id": "4739ec2f",
   "metadata": {},
   "source": [
    "We should discuss what exactly we want to do with these columns, so I won't change them any further for now."
   ]
  },
  {
   "cell_type": "markdown",
   "id": "409e0f6b",
   "metadata": {},
   "source": [
    "The other columns aren't too interesting in my opinion, so NaN values can just be turned to unknown or whatever. Problem for later."
   ]
  },
  {
   "cell_type": "code",
   "execution_count": null,
   "id": "e29d6ff8",
   "metadata": {},
   "outputs": [],
   "source": []
  }
 ],
 "metadata": {
  "kernelspec": {
   "display_name": "Python 3.9.7 64-bit (microsoft store)",
   "language": "python",
   "name": "python3"
  },
  "language_info": {
   "codemirror_mode": {
    "name": "ipython",
    "version": 3
   },
   "file_extension": ".py",
   "mimetype": "text/x-python",
   "name": "python",
   "nbconvert_exporter": "python",
   "pygments_lexer": "ipython3",
   "version": "3.9.7"
  },
  "vscode": {
   "interpreter": {
    "hash": "a07cc2e4bd48d14c6cdc09150474631d5ae7658e6d771b374fe855ab4b0a9ad7"
   }
  }
 },
 "nbformat": 4,
 "nbformat_minor": 5
}
